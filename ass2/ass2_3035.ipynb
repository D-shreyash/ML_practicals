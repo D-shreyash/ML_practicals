{
 "cells": [
  {
   "cell_type": "code",
   "execution_count": 221,
   "id": "72ff7222-0d72-4250-ac23-9acbe85e16c4",
   "metadata": {},
   "outputs": [],
   "source": [
    "import pandas as pd"
   ]
  },
  {
   "cell_type": "code",
   "execution_count": 222,
   "id": "4db30b26-be8e-442a-8b75-83c6ae1cd652",
   "metadata": {},
   "outputs": [],
   "source": [
    "dataset=pd.read_csv(\"/home/shreyash/Desktop/ass2/data2.csv\")"
   ]
  },
  {
   "cell_type": "code",
   "execution_count": 223,
   "id": "0239f858-bb83-448f-a1af-6fb96cce0bae",
   "metadata": {},
   "outputs": [
    {
     "data": {
      "text/html": [
       "<div>\n",
       "<style scoped>\n",
       "    .dataframe tbody tr th:only-of-type {\n",
       "        vertical-align: middle;\n",
       "    }\n",
       "\n",
       "    .dataframe tbody tr th {\n",
       "        vertical-align: top;\n",
       "    }\n",
       "\n",
       "    .dataframe thead th {\n",
       "        text-align: right;\n",
       "    }\n",
       "</style>\n",
       "<table border=\"1\" class=\"dataframe\">\n",
       "  <thead>\n",
       "    <tr style=\"text-align: right;\">\n",
       "      <th></th>\n",
       "      <th>price</th>\n",
       "      <th>area</th>\n",
       "      <th>bedrooms</th>\n",
       "      <th>bathrooms</th>\n",
       "      <th>stories</th>\n",
       "      <th>mainroad</th>\n",
       "      <th>guestroom</th>\n",
       "      <th>basement</th>\n",
       "      <th>hotwaterheating</th>\n",
       "      <th>airconditioning</th>\n",
       "      <th>parking</th>\n",
       "      <th>prefarea</th>\n",
       "      <th>furnishingstatus</th>\n",
       "    </tr>\n",
       "  </thead>\n",
       "  <tbody>\n",
       "    <tr>\n",
       "      <th>0</th>\n",
       "      <td>13300000</td>\n",
       "      <td>7420</td>\n",
       "      <td>4.0</td>\n",
       "      <td>2.0</td>\n",
       "      <td>3.0</td>\n",
       "      <td>yes</td>\n",
       "      <td>no</td>\n",
       "      <td>no</td>\n",
       "      <td>no</td>\n",
       "      <td>yes</td>\n",
       "      <td>2.0</td>\n",
       "      <td>yes</td>\n",
       "      <td>furnished</td>\n",
       "    </tr>\n",
       "    <tr>\n",
       "      <th>1</th>\n",
       "      <td>12250000</td>\n",
       "      <td>8960</td>\n",
       "      <td>4.0</td>\n",
       "      <td>4.0</td>\n",
       "      <td>4.0</td>\n",
       "      <td>yes</td>\n",
       "      <td>no</td>\n",
       "      <td>no</td>\n",
       "      <td>no</td>\n",
       "      <td>yes</td>\n",
       "      <td>3.0</td>\n",
       "      <td>no</td>\n",
       "      <td>furnished</td>\n",
       "    </tr>\n",
       "    <tr>\n",
       "      <th>2</th>\n",
       "      <td>12250000</td>\n",
       "      <td>9960</td>\n",
       "      <td>3.0</td>\n",
       "      <td>2.0</td>\n",
       "      <td>2.0</td>\n",
       "      <td>yes</td>\n",
       "      <td>no</td>\n",
       "      <td>yes</td>\n",
       "      <td>no</td>\n",
       "      <td>no</td>\n",
       "      <td>2.0</td>\n",
       "      <td>yes</td>\n",
       "      <td>semi-furnished</td>\n",
       "    </tr>\n",
       "    <tr>\n",
       "      <th>3</th>\n",
       "      <td>12215000</td>\n",
       "      <td>7500</td>\n",
       "      <td>4.0</td>\n",
       "      <td>2.0</td>\n",
       "      <td>2.0</td>\n",
       "      <td>yes</td>\n",
       "      <td>no</td>\n",
       "      <td>yes</td>\n",
       "      <td>no</td>\n",
       "      <td>yes</td>\n",
       "      <td>3.0</td>\n",
       "      <td>yes</td>\n",
       "      <td>furnished</td>\n",
       "    </tr>\n",
       "    <tr>\n",
       "      <th>4</th>\n",
       "      <td>11410000</td>\n",
       "      <td>7420</td>\n",
       "      <td>4.0</td>\n",
       "      <td>1.0</td>\n",
       "      <td>2.0</td>\n",
       "      <td>yes</td>\n",
       "      <td>yes</td>\n",
       "      <td>yes</td>\n",
       "      <td>no</td>\n",
       "      <td>yes</td>\n",
       "      <td>2.0</td>\n",
       "      <td>no</td>\n",
       "      <td>furnished</td>\n",
       "    </tr>\n",
       "    <tr>\n",
       "      <th>...</th>\n",
       "      <td>...</td>\n",
       "      <td>...</td>\n",
       "      <td>...</td>\n",
       "      <td>...</td>\n",
       "      <td>...</td>\n",
       "      <td>...</td>\n",
       "      <td>...</td>\n",
       "      <td>...</td>\n",
       "      <td>...</td>\n",
       "      <td>...</td>\n",
       "      <td>...</td>\n",
       "      <td>...</td>\n",
       "      <td>...</td>\n",
       "    </tr>\n",
       "    <tr>\n",
       "      <th>540</th>\n",
       "      <td>1820000</td>\n",
       "      <td>3000</td>\n",
       "      <td>2.0</td>\n",
       "      <td>1.0</td>\n",
       "      <td>1.0</td>\n",
       "      <td>yes</td>\n",
       "      <td>no</td>\n",
       "      <td>yes</td>\n",
       "      <td>no</td>\n",
       "      <td>no</td>\n",
       "      <td>2.0</td>\n",
       "      <td>no</td>\n",
       "      <td>unfurnished</td>\n",
       "    </tr>\n",
       "    <tr>\n",
       "      <th>541</th>\n",
       "      <td>1767150</td>\n",
       "      <td>2400</td>\n",
       "      <td>3.0</td>\n",
       "      <td>1.0</td>\n",
       "      <td>1.0</td>\n",
       "      <td>no</td>\n",
       "      <td>no</td>\n",
       "      <td>no</td>\n",
       "      <td>no</td>\n",
       "      <td>no</td>\n",
       "      <td>0.0</td>\n",
       "      <td>no</td>\n",
       "      <td>semi-furnished</td>\n",
       "    </tr>\n",
       "    <tr>\n",
       "      <th>542</th>\n",
       "      <td>1750000</td>\n",
       "      <td>3620</td>\n",
       "      <td>2.0</td>\n",
       "      <td>1.0</td>\n",
       "      <td>1.0</td>\n",
       "      <td>yes</td>\n",
       "      <td>no</td>\n",
       "      <td>no</td>\n",
       "      <td>no</td>\n",
       "      <td>no</td>\n",
       "      <td>0.0</td>\n",
       "      <td>no</td>\n",
       "      <td>unfurnished</td>\n",
       "    </tr>\n",
       "    <tr>\n",
       "      <th>543</th>\n",
       "      <td>1750000</td>\n",
       "      <td>2910</td>\n",
       "      <td>3.0</td>\n",
       "      <td>1.0</td>\n",
       "      <td>1.0</td>\n",
       "      <td>no</td>\n",
       "      <td>no</td>\n",
       "      <td>no</td>\n",
       "      <td>no</td>\n",
       "      <td>no</td>\n",
       "      <td>0.0</td>\n",
       "      <td>no</td>\n",
       "      <td>furnished</td>\n",
       "    </tr>\n",
       "    <tr>\n",
       "      <th>544</th>\n",
       "      <td>1750000</td>\n",
       "      <td>3850</td>\n",
       "      <td>3.0</td>\n",
       "      <td>1.0</td>\n",
       "      <td>2.0</td>\n",
       "      <td>yes</td>\n",
       "      <td>no</td>\n",
       "      <td>no</td>\n",
       "      <td>no</td>\n",
       "      <td>no</td>\n",
       "      <td>0.0</td>\n",
       "      <td>no</td>\n",
       "      <td>unfurnished</td>\n",
       "    </tr>\n",
       "  </tbody>\n",
       "</table>\n",
       "<p>545 rows × 13 columns</p>\n",
       "</div>"
      ],
      "text/plain": [
       "        price  area  bedrooms  bathrooms  stories mainroad guestroom basement  \\\n",
       "0    13300000  7420       4.0        2.0      3.0      yes        no       no   \n",
       "1    12250000  8960       4.0        4.0      4.0      yes        no       no   \n",
       "2    12250000  9960       3.0        2.0      2.0      yes        no      yes   \n",
       "3    12215000  7500       4.0        2.0      2.0      yes        no      yes   \n",
       "4    11410000  7420       4.0        1.0      2.0      yes       yes      yes   \n",
       "..        ...   ...       ...        ...      ...      ...       ...      ...   \n",
       "540   1820000  3000       2.0        1.0      1.0      yes        no      yes   \n",
       "541   1767150  2400       3.0        1.0      1.0       no        no       no   \n",
       "542   1750000  3620       2.0        1.0      1.0      yes        no       no   \n",
       "543   1750000  2910       3.0        1.0      1.0       no        no       no   \n",
       "544   1750000  3850       3.0        1.0      2.0      yes        no       no   \n",
       "\n",
       "    hotwaterheating airconditioning  parking prefarea furnishingstatus  \n",
       "0                no             yes      2.0      yes        furnished  \n",
       "1                no             yes      3.0       no        furnished  \n",
       "2                no              no      2.0      yes   semi-furnished  \n",
       "3                no             yes      3.0      yes        furnished  \n",
       "4                no             yes      2.0       no        furnished  \n",
       "..              ...             ...      ...      ...              ...  \n",
       "540              no              no      2.0       no      unfurnished  \n",
       "541              no              no      0.0       no   semi-furnished  \n",
       "542              no              no      0.0       no      unfurnished  \n",
       "543              no              no      0.0       no        furnished  \n",
       "544              no              no      0.0       no      unfurnished  \n",
       "\n",
       "[545 rows x 13 columns]"
      ]
     },
     "execution_count": 223,
     "metadata": {},
     "output_type": "execute_result"
    }
   ],
   "source": [
    "dataset"
   ]
  },
  {
   "cell_type": "code",
   "execution_count": 224,
   "id": "da621691-a408-4d82-84aa-7f26b965cbf6",
   "metadata": {},
   "outputs": [
    {
     "data": {
      "text/html": [
       "<div>\n",
       "<style scoped>\n",
       "    .dataframe tbody tr th:only-of-type {\n",
       "        vertical-align: middle;\n",
       "    }\n",
       "\n",
       "    .dataframe tbody tr th {\n",
       "        vertical-align: top;\n",
       "    }\n",
       "\n",
       "    .dataframe thead th {\n",
       "        text-align: right;\n",
       "    }\n",
       "</style>\n",
       "<table border=\"1\" class=\"dataframe\">\n",
       "  <thead>\n",
       "    <tr style=\"text-align: right;\">\n",
       "      <th></th>\n",
       "      <th>price</th>\n",
       "      <th>area</th>\n",
       "      <th>bedrooms</th>\n",
       "      <th>bathrooms</th>\n",
       "      <th>stories</th>\n",
       "      <th>mainroad</th>\n",
       "      <th>guestroom</th>\n",
       "      <th>basement</th>\n",
       "      <th>hotwaterheating</th>\n",
       "      <th>airconditioning</th>\n",
       "      <th>parking</th>\n",
       "      <th>prefarea</th>\n",
       "      <th>furnishingstatus</th>\n",
       "    </tr>\n",
       "  </thead>\n",
       "  <tbody>\n",
       "    <tr>\n",
       "      <th>0</th>\n",
       "      <td>False</td>\n",
       "      <td>False</td>\n",
       "      <td>False</td>\n",
       "      <td>False</td>\n",
       "      <td>False</td>\n",
       "      <td>False</td>\n",
       "      <td>False</td>\n",
       "      <td>False</td>\n",
       "      <td>False</td>\n",
       "      <td>False</td>\n",
       "      <td>False</td>\n",
       "      <td>False</td>\n",
       "      <td>False</td>\n",
       "    </tr>\n",
       "    <tr>\n",
       "      <th>1</th>\n",
       "      <td>False</td>\n",
       "      <td>False</td>\n",
       "      <td>False</td>\n",
       "      <td>False</td>\n",
       "      <td>False</td>\n",
       "      <td>False</td>\n",
       "      <td>False</td>\n",
       "      <td>False</td>\n",
       "      <td>False</td>\n",
       "      <td>False</td>\n",
       "      <td>False</td>\n",
       "      <td>False</td>\n",
       "      <td>False</td>\n",
       "    </tr>\n",
       "    <tr>\n",
       "      <th>2</th>\n",
       "      <td>False</td>\n",
       "      <td>False</td>\n",
       "      <td>False</td>\n",
       "      <td>False</td>\n",
       "      <td>False</td>\n",
       "      <td>False</td>\n",
       "      <td>False</td>\n",
       "      <td>False</td>\n",
       "      <td>False</td>\n",
       "      <td>False</td>\n",
       "      <td>False</td>\n",
       "      <td>False</td>\n",
       "      <td>False</td>\n",
       "    </tr>\n",
       "    <tr>\n",
       "      <th>3</th>\n",
       "      <td>False</td>\n",
       "      <td>False</td>\n",
       "      <td>False</td>\n",
       "      <td>False</td>\n",
       "      <td>False</td>\n",
       "      <td>False</td>\n",
       "      <td>False</td>\n",
       "      <td>False</td>\n",
       "      <td>False</td>\n",
       "      <td>False</td>\n",
       "      <td>False</td>\n",
       "      <td>False</td>\n",
       "      <td>False</td>\n",
       "    </tr>\n",
       "    <tr>\n",
       "      <th>4</th>\n",
       "      <td>False</td>\n",
       "      <td>False</td>\n",
       "      <td>False</td>\n",
       "      <td>False</td>\n",
       "      <td>False</td>\n",
       "      <td>False</td>\n",
       "      <td>False</td>\n",
       "      <td>False</td>\n",
       "      <td>False</td>\n",
       "      <td>False</td>\n",
       "      <td>False</td>\n",
       "      <td>False</td>\n",
       "      <td>False</td>\n",
       "    </tr>\n",
       "    <tr>\n",
       "      <th>...</th>\n",
       "      <td>...</td>\n",
       "      <td>...</td>\n",
       "      <td>...</td>\n",
       "      <td>...</td>\n",
       "      <td>...</td>\n",
       "      <td>...</td>\n",
       "      <td>...</td>\n",
       "      <td>...</td>\n",
       "      <td>...</td>\n",
       "      <td>...</td>\n",
       "      <td>...</td>\n",
       "      <td>...</td>\n",
       "      <td>...</td>\n",
       "    </tr>\n",
       "    <tr>\n",
       "      <th>540</th>\n",
       "      <td>False</td>\n",
       "      <td>False</td>\n",
       "      <td>False</td>\n",
       "      <td>False</td>\n",
       "      <td>False</td>\n",
       "      <td>False</td>\n",
       "      <td>False</td>\n",
       "      <td>False</td>\n",
       "      <td>False</td>\n",
       "      <td>False</td>\n",
       "      <td>False</td>\n",
       "      <td>False</td>\n",
       "      <td>False</td>\n",
       "    </tr>\n",
       "    <tr>\n",
       "      <th>541</th>\n",
       "      <td>False</td>\n",
       "      <td>False</td>\n",
       "      <td>False</td>\n",
       "      <td>False</td>\n",
       "      <td>False</td>\n",
       "      <td>False</td>\n",
       "      <td>False</td>\n",
       "      <td>False</td>\n",
       "      <td>False</td>\n",
       "      <td>False</td>\n",
       "      <td>False</td>\n",
       "      <td>False</td>\n",
       "      <td>False</td>\n",
       "    </tr>\n",
       "    <tr>\n",
       "      <th>542</th>\n",
       "      <td>False</td>\n",
       "      <td>False</td>\n",
       "      <td>False</td>\n",
       "      <td>False</td>\n",
       "      <td>False</td>\n",
       "      <td>False</td>\n",
       "      <td>False</td>\n",
       "      <td>False</td>\n",
       "      <td>False</td>\n",
       "      <td>False</td>\n",
       "      <td>False</td>\n",
       "      <td>False</td>\n",
       "      <td>False</td>\n",
       "    </tr>\n",
       "    <tr>\n",
       "      <th>543</th>\n",
       "      <td>False</td>\n",
       "      <td>False</td>\n",
       "      <td>False</td>\n",
       "      <td>False</td>\n",
       "      <td>False</td>\n",
       "      <td>False</td>\n",
       "      <td>False</td>\n",
       "      <td>False</td>\n",
       "      <td>False</td>\n",
       "      <td>False</td>\n",
       "      <td>False</td>\n",
       "      <td>False</td>\n",
       "      <td>False</td>\n",
       "    </tr>\n",
       "    <tr>\n",
       "      <th>544</th>\n",
       "      <td>False</td>\n",
       "      <td>False</td>\n",
       "      <td>False</td>\n",
       "      <td>False</td>\n",
       "      <td>False</td>\n",
       "      <td>False</td>\n",
       "      <td>False</td>\n",
       "      <td>False</td>\n",
       "      <td>False</td>\n",
       "      <td>False</td>\n",
       "      <td>False</td>\n",
       "      <td>False</td>\n",
       "      <td>False</td>\n",
       "    </tr>\n",
       "  </tbody>\n",
       "</table>\n",
       "<p>545 rows × 13 columns</p>\n",
       "</div>"
      ],
      "text/plain": [
       "     price   area  bedrooms  bathrooms  stories  mainroad  guestroom  \\\n",
       "0    False  False     False      False    False     False      False   \n",
       "1    False  False     False      False    False     False      False   \n",
       "2    False  False     False      False    False     False      False   \n",
       "3    False  False     False      False    False     False      False   \n",
       "4    False  False     False      False    False     False      False   \n",
       "..     ...    ...       ...        ...      ...       ...        ...   \n",
       "540  False  False     False      False    False     False      False   \n",
       "541  False  False     False      False    False     False      False   \n",
       "542  False  False     False      False    False     False      False   \n",
       "543  False  False     False      False    False     False      False   \n",
       "544  False  False     False      False    False     False      False   \n",
       "\n",
       "     basement  hotwaterheating  airconditioning  parking  prefarea  \\\n",
       "0       False            False            False    False     False   \n",
       "1       False            False            False    False     False   \n",
       "2       False            False            False    False     False   \n",
       "3       False            False            False    False     False   \n",
       "4       False            False            False    False     False   \n",
       "..        ...              ...              ...      ...       ...   \n",
       "540     False            False            False    False     False   \n",
       "541     False            False            False    False     False   \n",
       "542     False            False            False    False     False   \n",
       "543     False            False            False    False     False   \n",
       "544     False            False            False    False     False   \n",
       "\n",
       "     furnishingstatus  \n",
       "0               False  \n",
       "1               False  \n",
       "2               False  \n",
       "3               False  \n",
       "4               False  \n",
       "..                ...  \n",
       "540             False  \n",
       "541             False  \n",
       "542             False  \n",
       "543             False  \n",
       "544             False  \n",
       "\n",
       "[545 rows x 13 columns]"
      ]
     },
     "execution_count": 224,
     "metadata": {},
     "output_type": "execute_result"
    }
   ],
   "source": [
    "dataset.isnull()"
   ]
  },
  {
   "cell_type": "code",
   "execution_count": 225,
   "id": "b0b8a8c8-c99c-4e82-a81a-83186034bb32",
   "metadata": {},
   "outputs": [
    {
     "data": {
      "text/plain": [
       "price               0\n",
       "area                0\n",
       "bedrooms            5\n",
       "bathrooms           5\n",
       "stories             2\n",
       "mainroad            0\n",
       "guestroom           0\n",
       "basement            0\n",
       "hotwaterheating     0\n",
       "airconditioning     0\n",
       "parking             4\n",
       "prefarea            0\n",
       "furnishingstatus    0\n",
       "dtype: int64"
      ]
     },
     "execution_count": 225,
     "metadata": {},
     "output_type": "execute_result"
    }
   ],
   "source": [
    "dataset.isnull().sum()"
   ]
  },
  {
   "cell_type": "code",
   "execution_count": 226,
   "id": "276f1a18-aba8-4dee-be74-d5e19fb17bc6",
   "metadata": {},
   "outputs": [
    {
     "data": {
      "text/html": [
       "<div>\n",
       "<style scoped>\n",
       "    .dataframe tbody tr th:only-of-type {\n",
       "        vertical-align: middle;\n",
       "    }\n",
       "\n",
       "    .dataframe tbody tr th {\n",
       "        vertical-align: top;\n",
       "    }\n",
       "\n",
       "    .dataframe thead th {\n",
       "        text-align: right;\n",
       "    }\n",
       "</style>\n",
       "<table border=\"1\" class=\"dataframe\">\n",
       "  <thead>\n",
       "    <tr style=\"text-align: right;\">\n",
       "      <th></th>\n",
       "      <th>price</th>\n",
       "      <th>area</th>\n",
       "      <th>bedrooms</th>\n",
       "      <th>bathrooms</th>\n",
       "      <th>stories</th>\n",
       "      <th>mainroad</th>\n",
       "      <th>guestroom</th>\n",
       "      <th>basement</th>\n",
       "      <th>hotwaterheating</th>\n",
       "      <th>airconditioning</th>\n",
       "      <th>parking</th>\n",
       "      <th>prefarea</th>\n",
       "      <th>furnishingstatus</th>\n",
       "    </tr>\n",
       "  </thead>\n",
       "  <tbody>\n",
       "    <tr>\n",
       "      <th>0</th>\n",
       "      <td>NaN</td>\n",
       "      <td>NaN</td>\n",
       "      <td>NaN</td>\n",
       "      <td>NaN</td>\n",
       "      <td>NaN</td>\n",
       "      <td>NaN</td>\n",
       "      <td>NaN</td>\n",
       "      <td>NaN</td>\n",
       "      <td>NaN</td>\n",
       "      <td>NaN</td>\n",
       "      <td>NaN</td>\n",
       "      <td>NaN</td>\n",
       "      <td>NaN</td>\n",
       "    </tr>\n",
       "    <tr>\n",
       "      <th>1</th>\n",
       "      <td>NaN</td>\n",
       "      <td>NaN</td>\n",
       "      <td>NaN</td>\n",
       "      <td>NaN</td>\n",
       "      <td>NaN</td>\n",
       "      <td>NaN</td>\n",
       "      <td>NaN</td>\n",
       "      <td>NaN</td>\n",
       "      <td>NaN</td>\n",
       "      <td>NaN</td>\n",
       "      <td>NaN</td>\n",
       "      <td>NaN</td>\n",
       "      <td>NaN</td>\n",
       "    </tr>\n",
       "    <tr>\n",
       "      <th>2</th>\n",
       "      <td>NaN</td>\n",
       "      <td>NaN</td>\n",
       "      <td>NaN</td>\n",
       "      <td>NaN</td>\n",
       "      <td>NaN</td>\n",
       "      <td>NaN</td>\n",
       "      <td>NaN</td>\n",
       "      <td>NaN</td>\n",
       "      <td>NaN</td>\n",
       "      <td>NaN</td>\n",
       "      <td>NaN</td>\n",
       "      <td>NaN</td>\n",
       "      <td>NaN</td>\n",
       "    </tr>\n",
       "    <tr>\n",
       "      <th>3</th>\n",
       "      <td>NaN</td>\n",
       "      <td>NaN</td>\n",
       "      <td>NaN</td>\n",
       "      <td>NaN</td>\n",
       "      <td>NaN</td>\n",
       "      <td>NaN</td>\n",
       "      <td>NaN</td>\n",
       "      <td>NaN</td>\n",
       "      <td>NaN</td>\n",
       "      <td>NaN</td>\n",
       "      <td>NaN</td>\n",
       "      <td>NaN</td>\n",
       "      <td>NaN</td>\n",
       "    </tr>\n",
       "    <tr>\n",
       "      <th>4</th>\n",
       "      <td>NaN</td>\n",
       "      <td>NaN</td>\n",
       "      <td>NaN</td>\n",
       "      <td>NaN</td>\n",
       "      <td>NaN</td>\n",
       "      <td>NaN</td>\n",
       "      <td>NaN</td>\n",
       "      <td>NaN</td>\n",
       "      <td>NaN</td>\n",
       "      <td>NaN</td>\n",
       "      <td>NaN</td>\n",
       "      <td>NaN</td>\n",
       "      <td>NaN</td>\n",
       "    </tr>\n",
       "    <tr>\n",
       "      <th>...</th>\n",
       "      <td>...</td>\n",
       "      <td>...</td>\n",
       "      <td>...</td>\n",
       "      <td>...</td>\n",
       "      <td>...</td>\n",
       "      <td>...</td>\n",
       "      <td>...</td>\n",
       "      <td>...</td>\n",
       "      <td>...</td>\n",
       "      <td>...</td>\n",
       "      <td>...</td>\n",
       "      <td>...</td>\n",
       "      <td>...</td>\n",
       "    </tr>\n",
       "    <tr>\n",
       "      <th>540</th>\n",
       "      <td>NaN</td>\n",
       "      <td>NaN</td>\n",
       "      <td>NaN</td>\n",
       "      <td>NaN</td>\n",
       "      <td>NaN</td>\n",
       "      <td>NaN</td>\n",
       "      <td>NaN</td>\n",
       "      <td>NaN</td>\n",
       "      <td>NaN</td>\n",
       "      <td>NaN</td>\n",
       "      <td>NaN</td>\n",
       "      <td>NaN</td>\n",
       "      <td>NaN</td>\n",
       "    </tr>\n",
       "    <tr>\n",
       "      <th>541</th>\n",
       "      <td>NaN</td>\n",
       "      <td>NaN</td>\n",
       "      <td>NaN</td>\n",
       "      <td>NaN</td>\n",
       "      <td>NaN</td>\n",
       "      <td>NaN</td>\n",
       "      <td>NaN</td>\n",
       "      <td>NaN</td>\n",
       "      <td>NaN</td>\n",
       "      <td>NaN</td>\n",
       "      <td>0.0</td>\n",
       "      <td>NaN</td>\n",
       "      <td>NaN</td>\n",
       "    </tr>\n",
       "    <tr>\n",
       "      <th>542</th>\n",
       "      <td>NaN</td>\n",
       "      <td>NaN</td>\n",
       "      <td>NaN</td>\n",
       "      <td>NaN</td>\n",
       "      <td>NaN</td>\n",
       "      <td>NaN</td>\n",
       "      <td>NaN</td>\n",
       "      <td>NaN</td>\n",
       "      <td>NaN</td>\n",
       "      <td>NaN</td>\n",
       "      <td>0.0</td>\n",
       "      <td>NaN</td>\n",
       "      <td>NaN</td>\n",
       "    </tr>\n",
       "    <tr>\n",
       "      <th>543</th>\n",
       "      <td>NaN</td>\n",
       "      <td>NaN</td>\n",
       "      <td>NaN</td>\n",
       "      <td>NaN</td>\n",
       "      <td>NaN</td>\n",
       "      <td>NaN</td>\n",
       "      <td>NaN</td>\n",
       "      <td>NaN</td>\n",
       "      <td>NaN</td>\n",
       "      <td>NaN</td>\n",
       "      <td>0.0</td>\n",
       "      <td>NaN</td>\n",
       "      <td>NaN</td>\n",
       "    </tr>\n",
       "    <tr>\n",
       "      <th>544</th>\n",
       "      <td>NaN</td>\n",
       "      <td>NaN</td>\n",
       "      <td>NaN</td>\n",
       "      <td>NaN</td>\n",
       "      <td>NaN</td>\n",
       "      <td>NaN</td>\n",
       "      <td>NaN</td>\n",
       "      <td>NaN</td>\n",
       "      <td>NaN</td>\n",
       "      <td>NaN</td>\n",
       "      <td>0.0</td>\n",
       "      <td>NaN</td>\n",
       "      <td>NaN</td>\n",
       "    </tr>\n",
       "  </tbody>\n",
       "</table>\n",
       "<p>545 rows × 13 columns</p>\n",
       "</div>"
      ],
      "text/plain": [
       "     price  area  bedrooms  bathrooms  stories mainroad guestroom basement  \\\n",
       "0      NaN   NaN       NaN        NaN      NaN      NaN       NaN      NaN   \n",
       "1      NaN   NaN       NaN        NaN      NaN      NaN       NaN      NaN   \n",
       "2      NaN   NaN       NaN        NaN      NaN      NaN       NaN      NaN   \n",
       "3      NaN   NaN       NaN        NaN      NaN      NaN       NaN      NaN   \n",
       "4      NaN   NaN       NaN        NaN      NaN      NaN       NaN      NaN   \n",
       "..     ...   ...       ...        ...      ...      ...       ...      ...   \n",
       "540    NaN   NaN       NaN        NaN      NaN      NaN       NaN      NaN   \n",
       "541    NaN   NaN       NaN        NaN      NaN      NaN       NaN      NaN   \n",
       "542    NaN   NaN       NaN        NaN      NaN      NaN       NaN      NaN   \n",
       "543    NaN   NaN       NaN        NaN      NaN      NaN       NaN      NaN   \n",
       "544    NaN   NaN       NaN        NaN      NaN      NaN       NaN      NaN   \n",
       "\n",
       "    hotwaterheating airconditioning  parking prefarea furnishingstatus  \n",
       "0               NaN             NaN      NaN      NaN              NaN  \n",
       "1               NaN             NaN      NaN      NaN              NaN  \n",
       "2               NaN             NaN      NaN      NaN              NaN  \n",
       "3               NaN             NaN      NaN      NaN              NaN  \n",
       "4               NaN             NaN      NaN      NaN              NaN  \n",
       "..              ...             ...      ...      ...              ...  \n",
       "540             NaN             NaN      NaN      NaN              NaN  \n",
       "541             NaN             NaN      0.0      NaN              NaN  \n",
       "542             NaN             NaN      0.0      NaN              NaN  \n",
       "543             NaN             NaN      0.0      NaN              NaN  \n",
       "544             NaN             NaN      0.0      NaN              NaN  \n",
       "\n",
       "[545 rows x 13 columns]"
      ]
     },
     "execution_count": 226,
     "metadata": {},
     "output_type": "execute_result"
    }
   ],
   "source": [
    "dataset[dataset==0]"
   ]
  },
  {
   "cell_type": "code",
   "execution_count": 227,
   "id": "40ff913b-e008-4853-9dbd-8e2a18d59b3f",
   "metadata": {},
   "outputs": [
    {
     "data": {
      "text/plain": [
       "price                 0\n",
       "area                  0\n",
       "bedrooms              0\n",
       "bathrooms             0\n",
       "stories               0\n",
       "mainroad              0\n",
       "guestroom             0\n",
       "basement              0\n",
       "hotwaterheating       0\n",
       "airconditioning       0\n",
       "parking             297\n",
       "prefarea              0\n",
       "furnishingstatus      0\n",
       "dtype: int64"
      ]
     },
     "execution_count": 227,
     "metadata": {},
     "output_type": "execute_result"
    }
   ],
   "source": [
    "dataset[dataset==0].count()"
   ]
  },
  {
   "cell_type": "code",
   "execution_count": 228,
   "id": "e524d688-860b-43f4-af03-2b036f17d31a",
   "metadata": {},
   "outputs": [],
   "source": [
    "meanb=dataset[\"bedrooms\"].mean()"
   ]
  },
  {
   "cell_type": "code",
   "execution_count": 229,
   "id": "59fa2682",
   "metadata": {},
   "outputs": [
    {
     "data": {
      "text/plain": [
       "2.9611111111111112"
      ]
     },
     "execution_count": 229,
     "metadata": {},
     "output_type": "execute_result"
    }
   ],
   "source": [
    "meanb"
   ]
  },
  {
   "cell_type": "code",
   "execution_count": 230,
   "id": "95adccbb",
   "metadata": {},
   "outputs": [],
   "source": [
    "meanbath=dataset[\"bathrooms\"].mean()"
   ]
  },
  {
   "cell_type": "code",
   "execution_count": 231,
   "id": "4ef199f8",
   "metadata": {},
   "outputs": [],
   "source": [
    "means=dataset[\"stories\"].mean()"
   ]
  },
  {
   "cell_type": "code",
   "execution_count": 232,
   "id": "b2c23c38",
   "metadata": {},
   "outputs": [],
   "source": [
    "#replacing the null values\n",
    "dataset=dataset.fillna(round(dataset[['bedrooms','bathrooms','stories','parking']].mean()))"
   ]
  },
  {
   "cell_type": "code",
   "execution_count": 233,
   "id": "fab4fd35",
   "metadata": {},
   "outputs": [],
   "source": [
    "import seaborn as sns"
   ]
  },
  {
   "cell_type": "code",
   "execution_count": 234,
   "id": "c703d0e4",
   "metadata": {},
   "outputs": [
    {
     "name": "stderr",
     "output_type": "stream",
     "text": [
      "/home/shreyash/.local/lib/python3.10/site-packages/seaborn/_oldcore.py:1498: FutureWarning: is_categorical_dtype is deprecated and will be removed in a future version. Use isinstance(dtype, CategoricalDtype) instead\n",
      "  if pd.api.types.is_categorical_dtype(vector):\n",
      "/home/shreyash/.local/lib/python3.10/site-packages/seaborn/_oldcore.py:1498: FutureWarning: is_categorical_dtype is deprecated and will be removed in a future version. Use isinstance(dtype, CategoricalDtype) instead\n",
      "  if pd.api.types.is_categorical_dtype(vector):\n"
     ]
    },
    {
     "data": {
      "text/plain": [
       "<Axes: xlabel='area', ylabel='price'>"
      ]
     },
     "execution_count": 234,
     "metadata": {},
     "output_type": "execute_result"
    },
    {
     "data": {
      "image/png": "[encoded data removed]",
      "text/plain": [
       "<Figure size 640x480 with 1 Axes>"
      ]
     },
     "metadata": {},
     "output_type": "display_data"
    }
   ],
   "source": [
    "sns.scatterplot(data=dataset, x=\"area\", y=\"price\")"
   ]
  },
  {
   "cell_type": "code",
   "execution_count": 235,
   "id": "77f95d21",
   "metadata": {},
   "outputs": [
    {
     "name": "stderr",
     "output_type": "stream",
     "text": [
      "/home/shreyash/.local/lib/python3.10/site-packages/seaborn/_oldcore.py:1498: FutureWarning: is_categorical_dtype is deprecated and will be removed in a future version. Use isinstance(dtype, CategoricalDtype) instead\n",
      "  if pd.api.types.is_categorical_dtype(vector):\n",
      "/home/shreyash/.local/lib/python3.10/site-packages/seaborn/_oldcore.py:1498: FutureWarning: is_categorical_dtype is deprecated and will be removed in a future version. Use isinstance(dtype, CategoricalDtype) instead\n",
      "  if pd.api.types.is_categorical_dtype(vector):\n",
      "/home/shreyash/.local/lib/python3.10/site-packages/seaborn/_oldcore.py:1498: FutureWarning: is_categorical_dtype is deprecated and will be removed in a future version. Use isinstance(dtype, CategoricalDtype) instead\n",
      "  if pd.api.types.is_categorical_dtype(vector):\n"
     ]
    },
    {
     "data": {
      "text/plain": [
       "<Axes: xlabel='area', ylabel='price'>"
      ]
     },
     "execution_count": 235,
     "metadata": {},
     "output_type": "execute_result"
    },
    {
     "data": {
      "image/png": "[encoded data removed]",
      "text/plain": [
       "<Figure size 640x480 with 1 Axes>"
      ]
     },
     "metadata": {},
     "output_type": "display_data"
    }
   ],
   "source": [
    "sns.barplot(data=dataset, x=\"area\", y=\"price\")"
   ]
  },
  {
   "cell_type": "code",
   "execution_count": 236,
   "id": "215253f9",
   "metadata": {},
   "outputs": [
    {
     "name": "stderr",
     "output_type": "stream",
     "text": [
      "/home/shreyash/.local/lib/python3.10/site-packages/seaborn/_oldcore.py:1498: FutureWarning: is_categorical_dtype is deprecated and will be removed in a future version. Use isinstance(dtype, CategoricalDtype) instead\n",
      "  if pd.api.types.is_categorical_dtype(vector):\n",
      "/home/shreyash/.local/lib/python3.10/site-packages/seaborn/_oldcore.py:1119: FutureWarning: use_inf_as_na option is deprecated and will be removed in a future version. Convert inf values to NaN before operating instead.\n",
      "  with pd.option_context('mode.use_inf_as_na', True):\n"
     ]
    },
    {
     "data": {
      "text/plain": [
       "<Axes: xlabel='Count', ylabel='price'>"
      ]
     },
     "execution_count": 236,
     "metadata": {},
     "output_type": "execute_result"
    },
    {
     "data": {
      "image/png": "[encoded data removed]",
      "text/plain": [
       "<Figure size 640x480 with 1 Axes>"
      ]
     },
     "metadata": {},
     "output_type": "display_data"
    }
   ],
   "source": [
    "sns.histplot(data=dataset, y=\"price\")"
   ]
  },
  {
   "cell_type": "code",
   "execution_count": 237,
   "id": "80b155c4",
   "metadata": {},
   "outputs": [
    {
     "name": "stderr",
     "output_type": "stream",
     "text": [
      "/home/shreyash/.local/lib/python3.10/site-packages/seaborn/_oldcore.py:1498: FutureWarning: is_categorical_dtype is deprecated and will be removed in a future version. Use isinstance(dtype, CategoricalDtype) instead\n",
      "  if pd.api.types.is_categorical_dtype(vector):\n",
      "/home/shreyash/.local/lib/python3.10/site-packages/seaborn/_oldcore.py:1119: FutureWarning: use_inf_as_na option is deprecated and will be removed in a future version. Convert inf values to NaN before operating instead.\n",
      "  with pd.option_context('mode.use_inf_as_na', True):\n",
      "/home/shreyash/.local/lib/python3.10/site-packages/seaborn/axisgrid.py:118: UserWarning: The figure layout has changed to tight\n",
      "  self._figure.tight_layout(*args, **kwargs)\n"
     ]
    },
    {
     "data": {
      "text/plain": [
       "<seaborn.axisgrid.FacetGrid at 0x7f9101fbefe0>"
      ]
     },
     "execution_count": 237,
     "metadata": {},
     "output_type": "execute_result"
    },
    {
     "data": {
      "image/png": "[encoded data removed]",
      "text/plain": [
       "<Figure size 500x500 with 1 Axes>"
      ]
     },
     "metadata": {},
     "output_type": "display_data"
    }
   ],
   "source": [
    "sns.displot(data=dataset, x=\"stories\", kind=\"kde\")"
   ]
  },
  {
   "cell_type": "code",
   "execution_count": 272,
   "id": "22042538-75d3-40e5-9a58-6c23095924ff",
   "metadata": {},
   "outputs": [],
   "source": [
    "from sklearn.linear_model import LinearRegression;\n",
    "from sklearn.model_selection import train_test_split;\n",
    "from sklearn.metrics import mean_squared_error, r2_score , mean_absolute_error;\n",
    "import numpy as np"
   ]
  },
  {
   "cell_type": "code",
   "execution_count": 239,
   "id": "c248dcbf",
   "metadata": {},
   "outputs": [],
   "source": [
    "#input \n",
    "x=dataset[['area']]\n",
    "\n",
    "#output\n",
    "y=dataset['price']"
   ]
  },
  {
   "cell_type": "code",
   "execution_count": 240,
   "id": "d8f1a5ee-4b93-418e-bb81-e3b4db21baeb",
   "metadata": {},
   "outputs": [
    {
     "data": {
      "text/plain": [
       "(545, 1)"
      ]
     },
     "execution_count": 240,
     "metadata": {},
     "output_type": "execute_result"
    }
   ],
   "source": [
    "x.shape"
   ]
  },
  {
   "cell_type": "code",
   "execution_count": 241,
   "id": "accd2b94-0cdd-4d59-9d2e-90cf054dd8fd",
   "metadata": {},
   "outputs": [],
   "source": [
    "# Split the data into training and testing sets (e.g., 70% train, 30% test)\n",
    "x_train, x_test, y_train, y_test = train_test_split(x, y, test_size=0.3, random_state=42)"
   ]
  },
  {
   "cell_type": "code",
   "execution_count": 242,
   "id": "c6289e4c-2472-480e-9023-d2c3c35fe36b",
   "metadata": {},
   "outputs": [],
   "source": [
    "regressor = LinearRegression()"
   ]
  },
  {
   "cell_type": "code",
   "execution_count": 243,
   "id": "9b0fb6e6-9c24-439e-a1a6-004183099352",
   "metadata": {},
   "outputs": [
    {
     "data": {
      "text/html": [
       "<style>#sk-container-id-6 {color: black;}#sk-container-id-6 pre{padding: 0;}#sk-container-id-6 div.sk-toggleable {background-color: white;}#sk-container-id-6 label.sk-toggleable__label {cursor: pointer;display: block;width: 100%;margin-bottom: 0;padding: 0.3em;box-sizing: border-box;text-align: center;}#sk-container-id-6 label.sk-toggleable__label-arrow:before {content: \"▸\";float: left;margin-right: 0.25em;color: #696969;}#sk-container-id-6 label.sk-toggleable__label-arrow:hover:before {color: black;}#sk-container-id-6 div.sk-estimator:hover label.sk-toggleable__label-arrow:before {color: black;}#sk-container-id-6 div.sk-toggleable__content {max-height: 0;max-width: 0;overflow: hidden;text-align: left;background-color: #f0f8ff;}#sk-container-id-6 div.sk-toggleable__content pre {margin: 0.2em;color: black;border-radius: 0.25em;background-color: #f0f8ff;}#sk-container-id-6 input.sk-toggleable__control:checked~div.sk-toggleable__content {max-height: 200px;max-width: 100%;overflow: auto;}#sk-container-id-6 input.sk-toggleable__control:checked~label.sk-toggleable__label-arrow:before {content: \"▾\";}#sk-container-id-6 div.sk-estimator input.sk-toggleable__control:checked~label.sk-toggleable__label {background-color: #d4ebff;}#sk-container-id-6 div.sk-label input.sk-toggleable__control:checked~label.sk-toggleable__label {background-color: #d4ebff;}#sk-container-id-6 input.sk-hidden--visually {border: 0;clip: rect(1px 1px 1px 1px);clip: rect(1px, 1px, 1px, 1px);height: 1px;margin: -1px;overflow: hidden;padding: 0;position: absolute;width: 1px;}#sk-container-id-6 div.sk-estimator {font-family: monospace;background-color: #f0f8ff;border: 1px dotted black;border-radius: 0.25em;box-sizing: border-box;margin-bottom: 0.5em;}#sk-container-id-6 div.sk-estimator:hover {background-color: #d4ebff;}#sk-container-id-6 div.sk-parallel-item::after {content: \"\";width: 100%;border-bottom: 1px solid gray;flex-grow: 1;}#sk-container-id-6 div.sk-label:hover label.sk-toggleable__label {background-color: #d4ebff;}#sk-container-id-6 div.sk-serial::before {content: \"\";position: absolute;border-left: 1px solid gray;box-sizing: border-box;top: 0;bottom: 0;left: 50%;z-index: 0;}#sk-container-id-6 div.sk-serial {display: flex;flex-direction: column;align-items: center;background-color: white;padding-right: 0.2em;padding-left: 0.2em;position: relative;}#sk-container-id-6 div.sk-item {position: relative;z-index: 1;}#sk-container-id-6 div.sk-parallel {display: flex;align-items: stretch;justify-content: center;background-color: white;position: relative;}#sk-container-id-6 div.sk-item::before, #sk-container-id-6 div.sk-parallel-item::before {content: \"\";position: absolute;border-left: 1px solid gray;box-sizing: border-box;top: 0;bottom: 0;left: 50%;z-index: -1;}#sk-container-id-6 div.sk-parallel-item {display: flex;flex-direction: column;z-index: 1;position: relative;background-color: white;}#sk-container-id-6 div.sk-parallel-item:first-child::after {align-self: flex-end;width: 50%;}#sk-container-id-6 div.sk-parallel-item:last-child::after {align-self: flex-start;width: 50%;}#sk-container-id-6 div.sk-parallel-item:only-child::after {width: 0;}#sk-container-id-6 div.sk-dashed-wrapped {border: 1px dashed gray;margin: 0 0.4em 0.5em 0.4em;box-sizing: border-box;padding-bottom: 0.4em;background-color: white;}#sk-container-id-6 div.sk-label label {font-family: monospace;font-weight: bold;display: inline-block;line-height: 1.2em;}#sk-container-id-6 div.sk-label-container {text-align: center;}#sk-container-id-6 div.sk-container {/* jupyter's `normalize.less` sets `[hidden] { display: none; }` but bootstrap.min.css set `[hidden] { display: none !important; }` so we also need the `!important` here to be able to override the default hidden behavior on the sphinx rendered scikit-learn.org. See: https://github.com/scikit-learn/scikit-learn/issues/21755 */display: inline-block !important;position: relative;}#sk-container-id-6 div.sk-text-repr-fallback {display: none;}</style><div id=\"sk-container-id-6\" class=\"sk-top-container\"><div class=\"sk-text-repr-fallback\"><pre>LinearRegression()</pre><b>In a Jupyter environment, please rerun this cell to show the HTML representation or trust the notebook. <br />On GitHub, the HTML representation is unable to render, please try loading this page with nbviewer.org.</b></div><div class=\"sk-container\" hidden><div class=\"sk-item\"><div class=\"sk-estimator sk-toggleable\"><input class=\"sk-toggleable__control sk-hidden--visually\" id=\"sk-estimator-id-6\" type=\"checkbox\" checked><label for=\"sk-estimator-id-6\" class=\"sk-toggleable__label sk-toggleable__label-arrow\">LinearRegression</label><div class=\"sk-toggleable__content\"><pre>LinearRegression()</pre></div></div></div></div></div>"
      ],
      "text/plain": [
       "LinearRegression()"
      ]
     },
     "execution_count": 243,
     "metadata": {},
     "output_type": "execute_result"
    }
   ],
   "source": [
    "regressor.fit(x_train,y_train)"
   ]
  },
  {
   "cell_type": "code",
   "execution_count": 244,
   "id": "3178a463-a4c2-4e02-8f39-d7991e6e3a26",
   "metadata": {},
   "outputs": [
    {
     "data": {
      "text/plain": [
       "array([449.44700819])"
      ]
     },
     "execution_count": 244,
     "metadata": {},
     "output_type": "execute_result"
    }
   ],
   "source": [
    "#give slop \n",
    "regressor.coef_"
   ]
  },
  {
   "cell_type": "code",
   "execution_count": 245,
   "id": "bd7cf7da-15a3-4b71-a7a1-a767a74723e3",
   "metadata": {},
   "outputs": [
    {
     "data": {
      "text/plain": [
       "2457461.528387109"
      ]
     },
     "execution_count": 245,
     "metadata": {},
     "output_type": "execute_result"
    }
   ],
   "source": [
    "# give intercept\n",
    "\n",
    "regressor.intercept_"
   ]
  },
  {
   "cell_type": "code",
   "execution_count": 246,
   "id": "5648d873-0c13-4b4b-82f8-dd0f180f206f",
   "metadata": {},
   "outputs": [],
   "source": [
    "# ypredicted\n",
    "y_pred=regressor.predict(x_test)"
   ]
  },
  {
   "cell_type": "code",
   "execution_count": 247,
   "id": "7105122a-aef3-4d99-bc4c-6dd2a7b3da69",
   "metadata": {
    "scrolled": true
   },
   "outputs": [
    {
     "data": {
      "text/plain": [
       "array([5109198.8766927 , 5378867.08160514, 4273227.44146416,\n",
       "       4704696.56932405, 4237271.68080917, 5477745.42340636,\n",
       "       6286750.03814366, 4700202.09924218, 3913669.83491425,\n",
       "       3670968.45049306, 6313716.85863491, 4225586.0585963 ,\n",
       "       4129404.3988442 , 3850747.25376801, 4241766.15089104,\n",
       "       4088954.16810733, 3356355.54476189, 5154143.57751144,\n",
       "       5086726.52628333, 5154143.57751144, 4713685.5094878 ,\n",
       "       5524937.35926604, 4097493.66126289, 4165360.15949919,\n",
       "       6165399.34593307, 6933953.7299335 , 3846252.78368614,\n",
       "       3805802.55294928, 8390162.03646065, 3805802.55294928,\n",
       "       4255249.56113666, 3859736.19393176, 5154143.57751144,\n",
       "       5430553.48754669, 4603570.99248189, 4524917.7660491 ,\n",
       "       4545592.32842572, 3886703.01442301, 4021537.11687922,\n",
       "       3710070.34020536, 6044048.65372247, 4088954.16810733,\n",
       "       5342911.32095015, 4345138.96277414, 5491228.83365199,\n",
       "       5102457.17156989, 5154143.57751144, 4542895.64637659,\n",
       "       6075509.94429559, 3805802.55294928, 5817077.91458784,\n",
       "       3805802.55294928, 5949664.78200312, 4479973.06523036,\n",
       "       4093448.6381892 , 3765352.32221241, 5041781.8254646 ,\n",
       "       3536134.34803684, 5356394.73119577, 4165360.15949919,\n",
       "       3886703.01442301, 3417030.89086718, 5351900.2611139 ,\n",
       "       4686718.68899656, 4866497.49227151, 4147382.27917169,\n",
       "       5423811.78242388, 3805802.55294928, 6232816.39716118,\n",
       "       5019309.47505523, 3738385.50172117, 5315944.5004589 ,\n",
       "       6232816.39716118, 7176655.11435469, 3663777.29836206,\n",
       "       4372105.78326539, 4088954.16810733, 4621548.87280939,\n",
       "       5154143.57751144, 4839530.67178027, 5315944.5004589 ,\n",
       "       4291205.32179166, 4929420.07341775, 5455273.07299699,\n",
       "       3221521.44230567, 5136165.69718395, 3715913.1513118 ,\n",
       "       4008053.7066336 , 5792358.32913754, 5154143.57751144,\n",
       "       3313658.07898409, 6075509.94429559, 4906947.72300838,\n",
       "       3990075.82630611, 6313716.85863491, 4120415.45868045,\n",
       "       5076838.69210321, 5064254.17587397, 4929420.07341775,\n",
       "       5423811.78242388, 3913669.83491425, 4524917.7660491 ,\n",
       "       3792319.14270365, 3940636.65540549, 5154143.57751144,\n",
       "       5572129.29512572, 5154143.57751144, 5154143.57751144,\n",
       "       5199088.27833018, 5154143.57751144, 5693479.98733631,\n",
       "       4172551.31163019, 3630518.21975619, 4142887.80908982,\n",
       "       4709191.03940593, 4187832.50990856, 4738854.5419463 ,\n",
       "       3886703.01442301, 5163132.51767519, 3859736.19393176,\n",
       "       5918203.49143001, 5603590.58569883, 4061987.34761609,\n",
       "       3805802.55294928, 5356394.73119577, 3536134.34803684,\n",
       "       4839530.67178027, 5794156.11717029, 7891275.85737264,\n",
       "       5720446.80782755, 3805802.55294928, 4794585.97096153,\n",
       "       6232816.39716118, 5390103.25680982, 4097943.10827108,\n",
       "       4091201.40314827, 4255249.56113666, 4524917.7660491 ,\n",
       "       4992342.65456398, 4039514.99720672, 3282646.23541916,\n",
       "       3873219.60417738, 5010320.53489148, 3421525.36094906,\n",
       "       6097982.29470496, 4223788.27056355, 5342911.32095015,\n",
       "       4313677.67220103, 7599135.30205084, 6802265.7565346 ,\n",
       "       7113732.53320846, 5136165.69718395, 3751868.91196679,\n",
       "       5315944.5004589 , 4021537.11687922, 6097982.29470496,\n",
       "       5396844.96193263, 3710070.34020536, 5369878.14144139,\n",
       "       4075470.75786171, 3888950.24946394, 4439522.83449349,\n",
       "       6502484.60207361, 4097943.10827108])"
      ]
     },
     "execution_count": 247,
     "metadata": {},
     "output_type": "execute_result"
    }
   ],
   "source": [
    "y_pred"
   ]
  },
  {
   "cell_type": "code",
   "execution_count": 248,
   "id": "7f54258e-9f66-4080-9bcc-e621f9e7428e",
   "metadata": {},
   "outputs": [],
   "source": [
    "mse = mean_squared_error(y_test, y_pred)\n",
    "r2 = r2_score(y_test, y_pred)\n",
    "mae = mean_absolute_error(y_test, y_pred)"
   ]
  },
  {
   "cell_type": "code",
   "execution_count": 249,
   "id": "f12728b2-dec2-4674-9fc4-e54fe2c668ef",
   "metadata": {},
   "outputs": [
    {
     "data": {
      "text/plain": [
       "3193989923757.6206"
      ]
     },
     "execution_count": 249,
     "metadata": {},
     "output_type": "execute_result"
    }
   ],
   "source": [
    "mse"
   ]
  },
  {
   "cell_type": "code",
   "execution_count": 250,
   "id": "32855e8d-b312-47fe-b8c6-46df93893d84",
   "metadata": {},
   "outputs": [
    {
     "data": {
      "text/plain": [
       "0.2583140345296001"
      ]
     },
     "execution_count": 250,
     "metadata": {},
     "output_type": "execute_result"
    }
   ],
   "source": [
    "r2"
   ]
  },
  {
   "cell_type": "code",
   "execution_count": 251,
   "id": "fea74c9f-f7a3-4dbe-a77e-da78bd4e6a1e",
   "metadata": {},
   "outputs": [
    {
     "data": {
      "text/plain": [
       "1387227.8956867643"
      ]
     },
     "execution_count": 251,
     "metadata": {},
     "output_type": "execute_result"
    }
   ],
   "source": [
    "mae"
   ]
  },
  {
   "cell_type": "markdown",
   "id": "6546e998-3eec-4f70-97b4-e3cf8ba18781",
   "metadata": {},
   "source": [
    "#muliliner regression"
   ]
  },
  {
   "cell_type": "code",
   "execution_count": 252,
   "id": "f9d51587-4de4-4792-b6dc-7a5de90edd73",
   "metadata": {},
   "outputs": [],
   "source": [
    "dataset['mainroad'].replace(['yes','no'],[0,1],inplace=True)"
   ]
  },
  {
   "cell_type": "code",
   "execution_count": 253,
   "id": "32a43d3a-6ec9-40ab-addc-af48fb993572",
   "metadata": {},
   "outputs": [],
   "source": [
    "dataset['guestroom'].replace(['yes','no'],[0,1],inplace=True)"
   ]
  },
  {
   "cell_type": "code",
   "execution_count": 254,
   "id": "215926b0-f7d8-426e-8664-94f18baa260e",
   "metadata": {},
   "outputs": [],
   "source": [
    "dataset['basement'].replace(['yes','no'],[0,1],inplace=True)"
   ]
  },
  {
   "cell_type": "code",
   "execution_count": 255,
   "id": "70d6da19-02f5-4c57-8ce7-c5579d275732",
   "metadata": {},
   "outputs": [],
   "source": [
    "dataset['hotwaterheating'].replace(['yes','no'],[0,1],inplace=True)"
   ]
  },
  {
   "cell_type": "code",
   "execution_count": 256,
   "id": "3d09e6ef-d306-44c5-b06d-438d78159784",
   "metadata": {},
   "outputs": [],
   "source": [
    "dataset['airconditioning'].replace(['yes','no'],[0,1],inplace=True)"
   ]
  },
  {
   "cell_type": "code",
   "execution_count": 257,
   "id": "c26f9ced-8013-4d9c-a7f6-f1051ad71ec2",
   "metadata": {},
   "outputs": [],
   "source": [
    "dataset['prefarea'].replace(['yes','no'],[0,1],inplace=True)"
   ]
  },
  {
   "cell_type": "code",
   "execution_count": 258,
   "id": "c2286b35-e928-4620-a6f8-f0caa36b5ad1",
   "metadata": {},
   "outputs": [],
   "source": [
    "dataset['furnishingstatus'].replace(['furnished','semi-furnished','unfurnished'],[0,1,2],inplace=True)"
   ]
  },
  {
   "cell_type": "code",
   "execution_count": 259,
   "id": "d4c713c7-72e9-40b9-94fd-0ddf10dc8feb",
   "metadata": {},
   "outputs": [
    {
     "data": {
      "text/html": [
       "<div>\n",
       "<style scoped>\n",
       "    .dataframe tbody tr th:only-of-type {\n",
       "        vertical-align: middle;\n",
       "    }\n",
       "\n",
       "    .dataframe tbody tr th {\n",
       "        vertical-align: top;\n",
       "    }\n",
       "\n",
       "    .dataframe thead th {\n",
       "        text-align: right;\n",
       "    }\n",
       "</style>\n",
       "<table border=\"1\" class=\"dataframe\">\n",
       "  <thead>\n",
       "    <tr style=\"text-align: right;\">\n",
       "      <th></th>\n",
       "      <th>price</th>\n",
       "      <th>area</th>\n",
       "      <th>bedrooms</th>\n",
       "      <th>bathrooms</th>\n",
       "      <th>stories</th>\n",
       "      <th>mainroad</th>\n",
       "      <th>guestroom</th>\n",
       "      <th>basement</th>\n",
       "      <th>hotwaterheating</th>\n",
       "      <th>airconditioning</th>\n",
       "      <th>parking</th>\n",
       "      <th>prefarea</th>\n",
       "      <th>furnishingstatus</th>\n",
       "    </tr>\n",
       "  </thead>\n",
       "  <tbody>\n",
       "    <tr>\n",
       "      <th>0</th>\n",
       "      <td>13300000</td>\n",
       "      <td>7420</td>\n",
       "      <td>4.0</td>\n",
       "      <td>2.0</td>\n",
       "      <td>3.0</td>\n",
       "      <td>0</td>\n",
       "      <td>1</td>\n",
       "      <td>1</td>\n",
       "      <td>1</td>\n",
       "      <td>0</td>\n",
       "      <td>2.0</td>\n",
       "      <td>0</td>\n",
       "      <td>0</td>\n",
       "    </tr>\n",
       "    <tr>\n",
       "      <th>1</th>\n",
       "      <td>12250000</td>\n",
       "      <td>8960</td>\n",
       "      <td>4.0</td>\n",
       "      <td>4.0</td>\n",
       "      <td>4.0</td>\n",
       "      <td>0</td>\n",
       "      <td>1</td>\n",
       "      <td>1</td>\n",
       "      <td>1</td>\n",
       "      <td>0</td>\n",
       "      <td>3.0</td>\n",
       "      <td>1</td>\n",
       "      <td>0</td>\n",
       "    </tr>\n",
       "    <tr>\n",
       "      <th>2</th>\n",
       "      <td>12250000</td>\n",
       "      <td>9960</td>\n",
       "      <td>3.0</td>\n",
       "      <td>2.0</td>\n",
       "      <td>2.0</td>\n",
       "      <td>0</td>\n",
       "      <td>1</td>\n",
       "      <td>0</td>\n",
       "      <td>1</td>\n",
       "      <td>1</td>\n",
       "      <td>2.0</td>\n",
       "      <td>0</td>\n",
       "      <td>1</td>\n",
       "    </tr>\n",
       "    <tr>\n",
       "      <th>3</th>\n",
       "      <td>12215000</td>\n",
       "      <td>7500</td>\n",
       "      <td>4.0</td>\n",
       "      <td>2.0</td>\n",
       "      <td>2.0</td>\n",
       "      <td>0</td>\n",
       "      <td>1</td>\n",
       "      <td>0</td>\n",
       "      <td>1</td>\n",
       "      <td>0</td>\n",
       "      <td>3.0</td>\n",
       "      <td>0</td>\n",
       "      <td>0</td>\n",
       "    </tr>\n",
       "    <tr>\n",
       "      <th>4</th>\n",
       "      <td>11410000</td>\n",
       "      <td>7420</td>\n",
       "      <td>4.0</td>\n",
       "      <td>1.0</td>\n",
       "      <td>2.0</td>\n",
       "      <td>0</td>\n",
       "      <td>0</td>\n",
       "      <td>0</td>\n",
       "      <td>1</td>\n",
       "      <td>0</td>\n",
       "      <td>2.0</td>\n",
       "      <td>1</td>\n",
       "      <td>0</td>\n",
       "    </tr>\n",
       "    <tr>\n",
       "      <th>...</th>\n",
       "      <td>...</td>\n",
       "      <td>...</td>\n",
       "      <td>...</td>\n",
       "      <td>...</td>\n",
       "      <td>...</td>\n",
       "      <td>...</td>\n",
       "      <td>...</td>\n",
       "      <td>...</td>\n",
       "      <td>...</td>\n",
       "      <td>...</td>\n",
       "      <td>...</td>\n",
       "      <td>...</td>\n",
       "      <td>...</td>\n",
       "    </tr>\n",
       "    <tr>\n",
       "      <th>540</th>\n",
       "      <td>1820000</td>\n",
       "      <td>3000</td>\n",
       "      <td>2.0</td>\n",
       "      <td>1.0</td>\n",
       "      <td>1.0</td>\n",
       "      <td>0</td>\n",
       "      <td>1</td>\n",
       "      <td>0</td>\n",
       "      <td>1</td>\n",
       "      <td>1</td>\n",
       "      <td>2.0</td>\n",
       "      <td>1</td>\n",
       "      <td>2</td>\n",
       "    </tr>\n",
       "    <tr>\n",
       "      <th>541</th>\n",
       "      <td>1767150</td>\n",
       "      <td>2400</td>\n",
       "      <td>3.0</td>\n",
       "      <td>1.0</td>\n",
       "      <td>1.0</td>\n",
       "      <td>1</td>\n",
       "      <td>1</td>\n",
       "      <td>1</td>\n",
       "      <td>1</td>\n",
       "      <td>1</td>\n",
       "      <td>0.0</td>\n",
       "      <td>1</td>\n",
       "      <td>1</td>\n",
       "    </tr>\n",
       "    <tr>\n",
       "      <th>542</th>\n",
       "      <td>1750000</td>\n",
       "      <td>3620</td>\n",
       "      <td>2.0</td>\n",
       "      <td>1.0</td>\n",
       "      <td>1.0</td>\n",
       "      <td>0</td>\n",
       "      <td>1</td>\n",
       "      <td>1</td>\n",
       "      <td>1</td>\n",
       "      <td>1</td>\n",
       "      <td>0.0</td>\n",
       "      <td>1</td>\n",
       "      <td>2</td>\n",
       "    </tr>\n",
       "    <tr>\n",
       "      <th>543</th>\n",
       "      <td>1750000</td>\n",
       "      <td>2910</td>\n",
       "      <td>3.0</td>\n",
       "      <td>1.0</td>\n",
       "      <td>1.0</td>\n",
       "      <td>1</td>\n",
       "      <td>1</td>\n",
       "      <td>1</td>\n",
       "      <td>1</td>\n",
       "      <td>1</td>\n",
       "      <td>0.0</td>\n",
       "      <td>1</td>\n",
       "      <td>0</td>\n",
       "    </tr>\n",
       "    <tr>\n",
       "      <th>544</th>\n",
       "      <td>1750000</td>\n",
       "      <td>3850</td>\n",
       "      <td>3.0</td>\n",
       "      <td>1.0</td>\n",
       "      <td>2.0</td>\n",
       "      <td>0</td>\n",
       "      <td>1</td>\n",
       "      <td>1</td>\n",
       "      <td>1</td>\n",
       "      <td>1</td>\n",
       "      <td>0.0</td>\n",
       "      <td>1</td>\n",
       "      <td>2</td>\n",
       "    </tr>\n",
       "  </tbody>\n",
       "</table>\n",
       "<p>545 rows × 13 columns</p>\n",
       "</div>"
      ],
      "text/plain": [
       "        price  area  bedrooms  bathrooms  stories  mainroad  guestroom  \\\n",
       "0    13300000  7420       4.0        2.0      3.0         0          1   \n",
       "1    12250000  8960       4.0        4.0      4.0         0          1   \n",
       "2    12250000  9960       3.0        2.0      2.0         0          1   \n",
       "3    12215000  7500       4.0        2.0      2.0         0          1   \n",
       "4    11410000  7420       4.0        1.0      2.0         0          0   \n",
       "..        ...   ...       ...        ...      ...       ...        ...   \n",
       "540   1820000  3000       2.0        1.0      1.0         0          1   \n",
       "541   1767150  2400       3.0        1.0      1.0         1          1   \n",
       "542   1750000  3620       2.0        1.0      1.0         0          1   \n",
       "543   1750000  2910       3.0        1.0      1.0         1          1   \n",
       "544   1750000  3850       3.0        1.0      2.0         0          1   \n",
       "\n",
       "     basement  hotwaterheating  airconditioning  parking  prefarea  \\\n",
       "0           1                1                0      2.0         0   \n",
       "1           1                1                0      3.0         1   \n",
       "2           0                1                1      2.0         0   \n",
       "3           0                1                0      3.0         0   \n",
       "4           0                1                0      2.0         1   \n",
       "..        ...              ...              ...      ...       ...   \n",
       "540         0                1                1      2.0         1   \n",
       "541         1                1                1      0.0         1   \n",
       "542         1                1                1      0.0         1   \n",
       "543         1                1                1      0.0         1   \n",
       "544         1                1                1      0.0         1   \n",
       "\n",
       "     furnishingstatus  \n",
       "0                   0  \n",
       "1                   0  \n",
       "2                   1  \n",
       "3                   0  \n",
       "4                   0  \n",
       "..                ...  \n",
       "540                 2  \n",
       "541                 1  \n",
       "542                 2  \n",
       "543                 0  \n",
       "544                 2  \n",
       "\n",
       "[545 rows x 13 columns]"
      ]
     },
     "execution_count": 259,
     "metadata": {},
     "output_type": "execute_result"
    }
   ],
   "source": [
    "dataset"
   ]
  },
  {
   "cell_type": "code",
   "execution_count": 260,
   "id": "e4a3a333-07eb-4d11-a8e8-79f8a777da9d",
   "metadata": {},
   "outputs": [],
   "source": [
    "X = dataset[[\"area\",\"bedrooms\",\"bathrooms\",\"stories\",\"mainroad\",\"guestroom\",\"basement\",\"hotwaterheating\",\"airconditioning\",\"parking\",\"prefarea\",\"furnishingstatus\"]]"
   ]
  },
  {
   "cell_type": "code",
   "execution_count": 261,
   "id": "54bba5a7-5411-45ab-98a5-ea69f2bdc388",
   "metadata": {},
   "outputs": [],
   "source": [
    "Y = dataset[[\"price\"]]"
   ]
  },
  {
   "cell_type": "code",
   "execution_count": 262,
   "id": "847ff59d-9a75-492f-a8ac-5f03b3a5c32e",
   "metadata": {},
   "outputs": [],
   "source": [
    "# Split the data into training and testing sets (e.g., 75% train, 25% test)\n",
    "X_train, X_test, Y_train, Y_test = train_test_split(X, Y, test_size=0.25, random_state=42)"
   ]
  },
  {
   "cell_type": "code",
   "execution_count": 263,
   "id": "c4b1d2ea-ade7-4dab-868b-ead3b48a31b0",
   "metadata": {},
   "outputs": [
    {
     "data": {
      "text/plain": [
       "(408, 12)"
      ]
     },
     "execution_count": 263,
     "metadata": {},
     "output_type": "execute_result"
    }
   ],
   "source": [
    "X_train.shape"
   ]
  },
  {
   "cell_type": "code",
   "execution_count": 264,
   "id": "b94e7ee5-61a7-4612-9958-900f66a51693",
   "metadata": {},
   "outputs": [
    {
     "data": {
      "text/plain": [
       "(408, 1)"
      ]
     },
     "execution_count": 264,
     "metadata": {},
     "output_type": "execute_result"
    }
   ],
   "source": [
    "Y_train.shape"
   ]
  },
  {
   "cell_type": "code",
   "execution_count": 265,
   "id": "15ef6ba8-73e4-4285-b054-d4a45bb4f053",
   "metadata": {},
   "outputs": [],
   "source": [
    "Reg = LinearRegression()"
   ]
  },
  {
   "cell_type": "code",
   "execution_count": 266,
   "id": "e6bb04ab-27ac-46ab-a5c2-2ecdb9d64f84",
   "metadata": {},
   "outputs": [
    {
     "data": {
      "text/html": [
       "<div>\n",
       "<style scoped>\n",
       "    .dataframe tbody tr th:only-of-type {\n",
       "        vertical-align: middle;\n",
       "    }\n",
       "\n",
       "    .dataframe tbody tr th {\n",
       "        vertical-align: top;\n",
       "    }\n",
       "\n",
       "    .dataframe thead th {\n",
       "        text-align: right;\n",
       "    }\n",
       "</style>\n",
       "<table border=\"1\" class=\"dataframe\">\n",
       "  <thead>\n",
       "    <tr style=\"text-align: right;\">\n",
       "      <th></th>\n",
       "      <th>area</th>\n",
       "      <th>bedrooms</th>\n",
       "      <th>bathrooms</th>\n",
       "      <th>stories</th>\n",
       "      <th>mainroad</th>\n",
       "      <th>guestroom</th>\n",
       "      <th>basement</th>\n",
       "      <th>hotwaterheating</th>\n",
       "      <th>airconditioning</th>\n",
       "      <th>parking</th>\n",
       "      <th>prefarea</th>\n",
       "      <th>furnishingstatus</th>\n",
       "    </tr>\n",
       "  </thead>\n",
       "  <tbody>\n",
       "    <tr>\n",
       "      <th>0</th>\n",
       "      <td>7420</td>\n",
       "      <td>4.0</td>\n",
       "      <td>2.0</td>\n",
       "      <td>3.0</td>\n",
       "      <td>0</td>\n",
       "      <td>1</td>\n",
       "      <td>1</td>\n",
       "      <td>1</td>\n",
       "      <td>0</td>\n",
       "      <td>2.0</td>\n",
       "      <td>0</td>\n",
       "      <td>0</td>\n",
       "    </tr>\n",
       "    <tr>\n",
       "      <th>1</th>\n",
       "      <td>8960</td>\n",
       "      <td>4.0</td>\n",
       "      <td>4.0</td>\n",
       "      <td>4.0</td>\n",
       "      <td>0</td>\n",
       "      <td>1</td>\n",
       "      <td>1</td>\n",
       "      <td>1</td>\n",
       "      <td>0</td>\n",
       "      <td>3.0</td>\n",
       "      <td>1</td>\n",
       "      <td>0</td>\n",
       "    </tr>\n",
       "    <tr>\n",
       "      <th>2</th>\n",
       "      <td>9960</td>\n",
       "      <td>3.0</td>\n",
       "      <td>2.0</td>\n",
       "      <td>2.0</td>\n",
       "      <td>0</td>\n",
       "      <td>1</td>\n",
       "      <td>0</td>\n",
       "      <td>1</td>\n",
       "      <td>1</td>\n",
       "      <td>2.0</td>\n",
       "      <td>0</td>\n",
       "      <td>1</td>\n",
       "    </tr>\n",
       "    <tr>\n",
       "      <th>3</th>\n",
       "      <td>7500</td>\n",
       "      <td>4.0</td>\n",
       "      <td>2.0</td>\n",
       "      <td>2.0</td>\n",
       "      <td>0</td>\n",
       "      <td>1</td>\n",
       "      <td>0</td>\n",
       "      <td>1</td>\n",
       "      <td>0</td>\n",
       "      <td>3.0</td>\n",
       "      <td>0</td>\n",
       "      <td>0</td>\n",
       "    </tr>\n",
       "    <tr>\n",
       "      <th>4</th>\n",
       "      <td>7420</td>\n",
       "      <td>4.0</td>\n",
       "      <td>1.0</td>\n",
       "      <td>2.0</td>\n",
       "      <td>0</td>\n",
       "      <td>0</td>\n",
       "      <td>0</td>\n",
       "      <td>1</td>\n",
       "      <td>0</td>\n",
       "      <td>2.0</td>\n",
       "      <td>1</td>\n",
       "      <td>0</td>\n",
       "    </tr>\n",
       "    <tr>\n",
       "      <th>...</th>\n",
       "      <td>...</td>\n",
       "      <td>...</td>\n",
       "      <td>...</td>\n",
       "      <td>...</td>\n",
       "      <td>...</td>\n",
       "      <td>...</td>\n",
       "      <td>...</td>\n",
       "      <td>...</td>\n",
       "      <td>...</td>\n",
       "      <td>...</td>\n",
       "      <td>...</td>\n",
       "      <td>...</td>\n",
       "    </tr>\n",
       "    <tr>\n",
       "      <th>540</th>\n",
       "      <td>3000</td>\n",
       "      <td>2.0</td>\n",
       "      <td>1.0</td>\n",
       "      <td>1.0</td>\n",
       "      <td>0</td>\n",
       "      <td>1</td>\n",
       "      <td>0</td>\n",
       "      <td>1</td>\n",
       "      <td>1</td>\n",
       "      <td>2.0</td>\n",
       "      <td>1</td>\n",
       "      <td>2</td>\n",
       "    </tr>\n",
       "    <tr>\n",
       "      <th>541</th>\n",
       "      <td>2400</td>\n",
       "      <td>3.0</td>\n",
       "      <td>1.0</td>\n",
       "      <td>1.0</td>\n",
       "      <td>1</td>\n",
       "      <td>1</td>\n",
       "      <td>1</td>\n",
       "      <td>1</td>\n",
       "      <td>1</td>\n",
       "      <td>0.0</td>\n",
       "      <td>1</td>\n",
       "      <td>1</td>\n",
       "    </tr>\n",
       "    <tr>\n",
       "      <th>542</th>\n",
       "      <td>3620</td>\n",
       "      <td>2.0</td>\n",
       "      <td>1.0</td>\n",
       "      <td>1.0</td>\n",
       "      <td>0</td>\n",
       "      <td>1</td>\n",
       "      <td>1</td>\n",
       "      <td>1</td>\n",
       "      <td>1</td>\n",
       "      <td>0.0</td>\n",
       "      <td>1</td>\n",
       "      <td>2</td>\n",
       "    </tr>\n",
       "    <tr>\n",
       "      <th>543</th>\n",
       "      <td>2910</td>\n",
       "      <td>3.0</td>\n",
       "      <td>1.0</td>\n",
       "      <td>1.0</td>\n",
       "      <td>1</td>\n",
       "      <td>1</td>\n",
       "      <td>1</td>\n",
       "      <td>1</td>\n",
       "      <td>1</td>\n",
       "      <td>0.0</td>\n",
       "      <td>1</td>\n",
       "      <td>0</td>\n",
       "    </tr>\n",
       "    <tr>\n",
       "      <th>544</th>\n",
       "      <td>3850</td>\n",
       "      <td>3.0</td>\n",
       "      <td>1.0</td>\n",
       "      <td>2.0</td>\n",
       "      <td>0</td>\n",
       "      <td>1</td>\n",
       "      <td>1</td>\n",
       "      <td>1</td>\n",
       "      <td>1</td>\n",
       "      <td>0.0</td>\n",
       "      <td>1</td>\n",
       "      <td>2</td>\n",
       "    </tr>\n",
       "  </tbody>\n",
       "</table>\n",
       "<p>545 rows × 12 columns</p>\n",
       "</div>"
      ],
      "text/plain": [
       "     area  bedrooms  bathrooms  stories  mainroad  guestroom  basement  \\\n",
       "0    7420       4.0        2.0      3.0         0          1         1   \n",
       "1    8960       4.0        4.0      4.0         0          1         1   \n",
       "2    9960       3.0        2.0      2.0         0          1         0   \n",
       "3    7500       4.0        2.0      2.0         0          1         0   \n",
       "4    7420       4.0        1.0      2.0         0          0         0   \n",
       "..    ...       ...        ...      ...       ...        ...       ...   \n",
       "540  3000       2.0        1.0      1.0         0          1         0   \n",
       "541  2400       3.0        1.0      1.0         1          1         1   \n",
       "542  3620       2.0        1.0      1.0         0          1         1   \n",
       "543  2910       3.0        1.0      1.0         1          1         1   \n",
       "544  3850       3.0        1.0      2.0         0          1         1   \n",
       "\n",
       "     hotwaterheating  airconditioning  parking  prefarea  furnishingstatus  \n",
       "0                  1                0      2.0         0                 0  \n",
       "1                  1                0      3.0         1                 0  \n",
       "2                  1                1      2.0         0                 1  \n",
       "3                  1                0      3.0         0                 0  \n",
       "4                  1                0      2.0         1                 0  \n",
       "..               ...              ...      ...       ...               ...  \n",
       "540                1                1      2.0         1                 2  \n",
       "541                1                1      0.0         1                 1  \n",
       "542                1                1      0.0         1                 2  \n",
       "543                1                1      0.0         1                 0  \n",
       "544                1                1      0.0         1                 2  \n",
       "\n",
       "[545 rows x 12 columns]"
      ]
     },
     "execution_count": 266,
     "metadata": {},
     "output_type": "execute_result"
    }
   ],
   "source": [
    "X"
   ]
  },
  {
   "cell_type": "code",
   "execution_count": 267,
   "id": "b65b929c-f062-48f0-8c40-37935f45da9f",
   "metadata": {},
   "outputs": [
    {
     "data": {
      "text/plain": [
       "price               0\n",
       "area                0\n",
       "bedrooms            0\n",
       "bathrooms           0\n",
       "stories             0\n",
       "mainroad            0\n",
       "guestroom           0\n",
       "basement            0\n",
       "hotwaterheating     0\n",
       "airconditioning     0\n",
       "parking             0\n",
       "prefarea            0\n",
       "furnishingstatus    0\n",
       "dtype: int64"
      ]
     },
     "execution_count": 267,
     "metadata": {},
     "output_type": "execute_result"
    }
   ],
   "source": [
    "dataset.isna().sum()"
   ]
  },
  {
   "cell_type": "code",
   "execution_count": 268,
   "id": "998317b4-d792-40ae-9852-021e6945829f",
   "metadata": {},
   "outputs": [
    {
     "data": {
      "text/html": [
       "<style>#sk-container-id-7 {color: black;}#sk-container-id-7 pre{padding: 0;}#sk-container-id-7 div.sk-toggleable {background-color: white;}#sk-container-id-7 label.sk-toggleable__label {cursor: pointer;display: block;width: 100%;margin-bottom: 0;padding: 0.3em;box-sizing: border-box;text-align: center;}#sk-container-id-7 label.sk-toggleable__label-arrow:before {content: \"▸\";float: left;margin-right: 0.25em;color: #696969;}#sk-container-id-7 label.sk-toggleable__label-arrow:hover:before {color: black;}#sk-container-id-7 div.sk-estimator:hover label.sk-toggleable__label-arrow:before {color: black;}#sk-container-id-7 div.sk-toggleable__content {max-height: 0;max-width: 0;overflow: hidden;text-align: left;background-color: #f0f8ff;}#sk-container-id-7 div.sk-toggleable__content pre {margin: 0.2em;color: black;border-radius: 0.25em;background-color: #f0f8ff;}#sk-container-id-7 input.sk-toggleable__control:checked~div.sk-toggleable__content {max-height: 200px;max-width: 100%;overflow: auto;}#sk-container-id-7 input.sk-toggleable__control:checked~label.sk-toggleable__label-arrow:before {content: \"▾\";}#sk-container-id-7 div.sk-estimator input.sk-toggleable__control:checked~label.sk-toggleable__label {background-color: #d4ebff;}#sk-container-id-7 div.sk-label input.sk-toggleable__control:checked~label.sk-toggleable__label {background-color: #d4ebff;}#sk-container-id-7 input.sk-hidden--visually {border: 0;clip: rect(1px 1px 1px 1px);clip: rect(1px, 1px, 1px, 1px);height: 1px;margin: -1px;overflow: hidden;padding: 0;position: absolute;width: 1px;}#sk-container-id-7 div.sk-estimator {font-family: monospace;background-color: #f0f8ff;border: 1px dotted black;border-radius: 0.25em;box-sizing: border-box;margin-bottom: 0.5em;}#sk-container-id-7 div.sk-estimator:hover {background-color: #d4ebff;}#sk-container-id-7 div.sk-parallel-item::after {content: \"\";width: 100%;border-bottom: 1px solid gray;flex-grow: 1;}#sk-container-id-7 div.sk-label:hover label.sk-toggleable__label {background-color: #d4ebff;}#sk-container-id-7 div.sk-serial::before {content: \"\";position: absolute;border-left: 1px solid gray;box-sizing: border-box;top: 0;bottom: 0;left: 50%;z-index: 0;}#sk-container-id-7 div.sk-serial {display: flex;flex-direction: column;align-items: center;background-color: white;padding-right: 0.2em;padding-left: 0.2em;position: relative;}#sk-container-id-7 div.sk-item {position: relative;z-index: 1;}#sk-container-id-7 div.sk-parallel {display: flex;align-items: stretch;justify-content: center;background-color: white;position: relative;}#sk-container-id-7 div.sk-item::before, #sk-container-id-7 div.sk-parallel-item::before {content: \"\";position: absolute;border-left: 1px solid gray;box-sizing: border-box;top: 0;bottom: 0;left: 50%;z-index: -1;}#sk-container-id-7 div.sk-parallel-item {display: flex;flex-direction: column;z-index: 1;position: relative;background-color: white;}#sk-container-id-7 div.sk-parallel-item:first-child::after {align-self: flex-end;width: 50%;}#sk-container-id-7 div.sk-parallel-item:last-child::after {align-self: flex-start;width: 50%;}#sk-container-id-7 div.sk-parallel-item:only-child::after {width: 0;}#sk-container-id-7 div.sk-dashed-wrapped {border: 1px dashed gray;margin: 0 0.4em 0.5em 0.4em;box-sizing: border-box;padding-bottom: 0.4em;background-color: white;}#sk-container-id-7 div.sk-label label {font-family: monospace;font-weight: bold;display: inline-block;line-height: 1.2em;}#sk-container-id-7 div.sk-label-container {text-align: center;}#sk-container-id-7 div.sk-container {/* jupyter's `normalize.less` sets `[hidden] { display: none; }` but bootstrap.min.css set `[hidden] { display: none !important; }` so we also need the `!important` here to be able to override the default hidden behavior on the sphinx rendered scikit-learn.org. See: https://github.com/scikit-learn/scikit-learn/issues/21755 */display: inline-block !important;position: relative;}#sk-container-id-7 div.sk-text-repr-fallback {display: none;}</style><div id=\"sk-container-id-7\" class=\"sk-top-container\"><div class=\"sk-text-repr-fallback\"><pre>LinearRegression()</pre><b>In a Jupyter environment, please rerun this cell to show the HTML representation or trust the notebook. <br />On GitHub, the HTML representation is unable to render, please try loading this page with nbviewer.org.</b></div><div class=\"sk-container\" hidden><div class=\"sk-item\"><div class=\"sk-estimator sk-toggleable\"><input class=\"sk-toggleable__control sk-hidden--visually\" id=\"sk-estimator-id-7\" type=\"checkbox\" checked><label for=\"sk-estimator-id-7\" class=\"sk-toggleable__label sk-toggleable__label-arrow\">LinearRegression</label><div class=\"sk-toggleable__content\"><pre>LinearRegression()</pre></div></div></div></div></div>"
      ],
      "text/plain": [
       "LinearRegression()"
      ]
     },
     "execution_count": 268,
     "metadata": {},
     "output_type": "execute_result"
    }
   ],
   "source": [
    "Reg.fit(X,Y)"
   ]
  },
  {
   "cell_type": "code",
   "execution_count": 269,
   "id": "f1e17faa-5fcb-47cb-bda3-ae1f38523335",
   "metadata": {},
   "outputs": [],
   "source": [
    "predicted = Reg.predict(X)"
   ]
  },
  {
   "cell_type": "code",
   "execution_count": 270,
   "id": "e32beb67-1091-4d39-9de3-784be53e2bd2",
   "metadata": {
    "scrolled": true
   },
   "outputs": [
    {
     "data": {
      "text/plain": [
       "array([[ 8204579.21907301],\n",
       "       [10578955.18225917],\n",
       "       [ 7517535.97100009],\n",
       "       [ 8404345.18707731],\n",
       "       [ 6809753.37870154],\n",
       "       [ 8277860.05434074],\n",
       "       [ 9672562.64732404],\n",
       "       [ 8508133.74943757],\n",
       "       [ 7616269.77671301],\n",
       "       [ 7686138.32234301],\n",
       "       [ 8438284.92637347],\n",
       "       [ 8163742.47690157],\n",
       "       [ 7044089.40398834],\n",
       "       [ 6166948.35197483],\n",
       "       [ 6081295.86083817],\n",
       "       [ 5085090.17685596],\n",
       "       [ 7484118.06304355],\n",
       "       [ 8144909.25313581],\n",
       "       [ 6584407.59929667],\n",
       "       [ 6877465.89639337],\n",
       "       [ 5410476.29568413],\n",
       "       [ 6673312.93799467],\n",
       "       [ 6104193.56593985],\n",
       "       [ 6651287.68146696],\n",
       "       [ 6365049.70917601],\n",
       "       [ 8188131.46570654],\n",
       "       [ 8045451.94909049],\n",
       "       [ 4577886.61450363],\n",
       "       [ 7305245.64863287],\n",
       "       [ 7139239.39132692],\n",
       "       [ 7450744.86205859],\n",
       "       [ 6600269.01658454],\n",
       "       [ 6855123.59627601],\n",
       "       [ 6648971.91967316],\n",
       "       [ 6525654.48830274],\n",
       "       [ 7776491.38148568],\n",
       "       [ 7822706.81537088],\n",
       "       [ 8402409.16907115],\n",
       "       [ 6429362.66799099],\n",
       "       [ 7168029.39763337],\n",
       "       [ 6252289.81789917],\n",
       "       [ 7706124.17495298],\n",
       "       [ 7206361.00719734],\n",
       "       [ 6585590.79765212],\n",
       "       [ 7389235.48702485],\n",
       "       [ 6307734.07877863],\n",
       "       [ 7254541.52830623],\n",
       "       [ 7639068.57514544],\n",
       "       [ 4990328.21097267],\n",
       "       [ 7051342.84170436],\n",
       "       [ 6946534.26377686],\n",
       "       [ 5936936.94620446],\n",
       "       [ 7685147.14225621],\n",
       "       [ 7100903.25039237],\n",
       "       [ 6430720.25136594],\n",
       "       [ 4958586.23123343],\n",
       "       [ 6784381.34882448],\n",
       "       [ 9061483.18175322],\n",
       "       [ 7876569.06911287],\n",
       "       [ 7550453.18353758],\n",
       "       [ 5571943.71263865],\n",
       "       [ 5303197.25408446],\n",
       "       [ 6549655.50370871],\n",
       "       [ 7944230.58977359],\n",
       "       [ 7215319.43950968],\n",
       "       [ 7416419.49658798],\n",
       "       [ 6952420.86638963],\n",
       "       [ 5299440.73990858],\n",
       "       [ 4951734.98862632],\n",
       "       [ 8043546.89935972],\n",
       "       [ 6359789.62221213],\n",
       "       [ 6670485.36949585],\n",
       "       [ 5979575.75531957],\n",
       "       [ 7124643.03446476],\n",
       "       [ 5286573.11028822],\n",
       "       [ 5579731.44006068],\n",
       "       [ 7271597.4684289 ],\n",
       "       [ 7291246.42158358],\n",
       "       [ 6442843.8019641 ],\n",
       "       [ 6824851.82340147],\n",
       "       [ 5833224.17188932],\n",
       "       [ 5996627.26476141],\n",
       "       [ 8004547.67277679],\n",
       "       [ 6756997.50016871],\n",
       "       [ 4919891.12610775],\n",
       "       [ 7081566.97564531],\n",
       "       [ 5429837.95151101],\n",
       "       [ 4000084.49130308],\n",
       "       [ 6144090.05811625],\n",
       "       [ 7631659.01772995],\n",
       "       [ 4657842.46744546],\n",
       "       [ 5707265.81467329],\n",
       "       [ 6979380.94747145],\n",
       "       [ 6885997.84705034],\n",
       "       [ 6309252.85890609],\n",
       "       [ 6393747.3188472 ],\n",
       "       [ 5822336.98688972],\n",
       "       [ 6117228.11392998],\n",
       "       [ 7149733.37298998],\n",
       "       [ 5695883.5827906 ],\n",
       "       [ 6327911.08895745],\n",
       "       [ 5065767.45287628],\n",
       "       [ 7206441.13692939],\n",
       "       [ 6910815.99345316],\n",
       "       [ 6489961.1558598 ],\n",
       "       [ 5212357.26361744],\n",
       "       [ 6401357.43546913],\n",
       "       [ 5368434.97290266],\n",
       "       [ 4092390.31945148],\n",
       "       [ 6730397.09252876],\n",
       "       [ 5583911.89683541],\n",
       "       [ 6266779.05240562],\n",
       "       [ 4252425.55416215],\n",
       "       [ 6250954.31258447],\n",
       "       [ 5080046.1141982 ],\n",
       "       [ 6786545.11576948],\n",
       "       [ 5838729.77979155],\n",
       "       [ 4990358.68202348],\n",
       "       [ 5771096.84763274],\n",
       "       [ 6249933.78439338],\n",
       "       [ 5790381.27136089],\n",
       "       [ 6494257.0974682 ],\n",
       "       [ 6016390.81469235],\n",
       "       [ 5679801.89382349],\n",
       "       [ 6524711.24465649],\n",
       "       [ 7364741.21654169],\n",
       "       [ 5204336.82429529],\n",
       "       [ 6209333.94660386],\n",
       "       [ 6023367.52942113],\n",
       "       [ 7027158.49103697],\n",
       "       [ 3728428.18777496],\n",
       "       [ 5331565.0505992 ],\n",
       "       [ 5156228.27172223],\n",
       "       [ 4836777.41655738],\n",
       "       [ 5386245.00737743],\n",
       "       [ 6535791.41077723],\n",
       "       [ 6177267.25554771],\n",
       "       [ 4121677.53698681],\n",
       "       [ 5107105.88883555],\n",
       "       [ 6604947.66549016],\n",
       "       [ 6486669.02789054],\n",
       "       [ 6861284.32857375],\n",
       "       [ 6515979.63107631],\n",
       "       [ 6000045.36016749],\n",
       "       [ 5865351.0326966 ],\n",
       "       [ 4918798.86088983],\n",
       "       [ 4842312.01673931],\n",
       "       [ 5153226.10019059],\n",
       "       [ 5221861.84993447],\n",
       "       [ 5825034.59834028],\n",
       "       [ 5758494.0473387 ],\n",
       "       [ 5837345.45119286],\n",
       "       [ 6535135.68896934],\n",
       "       [ 5644600.72269437],\n",
       "       [ 4975181.9972348 ],\n",
       "       [ 6341416.6492885 ],\n",
       "       [ 5104919.59367337],\n",
       "       [ 5070993.23270274],\n",
       "       [ 4634401.88983176],\n",
       "       [ 5579373.52197972],\n",
       "       [ 6505371.43003153],\n",
       "       [ 6312690.94614042],\n",
       "       [ 6570209.67496172],\n",
       "       [ 5945275.23881815],\n",
       "       [ 6960077.05496829],\n",
       "       [ 5961412.21589469],\n",
       "       [ 6220304.98825996],\n",
       "       [ 5483332.47456512],\n",
       "       [ 5185032.19636851],\n",
       "       [ 5697684.7480031 ],\n",
       "       [ 4780667.23754814],\n",
       "       [ 5559769.91942057],\n",
       "       [ 7112847.21354145],\n",
       "       [ 5790267.06141897],\n",
       "       [ 4847917.92967441],\n",
       "       [ 6916300.8849503 ],\n",
       "       [ 5847014.95174457],\n",
       "       [ 4600237.81117361],\n",
       "       [ 5703033.67533562],\n",
       "       [ 4859744.39745109],\n",
       "       [ 5653091.39615458],\n",
       "       [ 6125410.617531  ],\n",
       "       [ 3839209.22159821],\n",
       "       [ 4997564.24728248],\n",
       "       [ 5133018.61747751],\n",
       "       [ 3439678.50795353],\n",
       "       [ 6099450.72710601],\n",
       "       [ 5471294.94562256],\n",
       "       [ 5118283.29392417],\n",
       "       [ 3077359.00436359],\n",
       "       [ 6205009.37057453],\n",
       "       [ 5848007.99371369],\n",
       "       [ 5252442.10873483],\n",
       "       [ 3814940.31844781],\n",
       "       [ 5727450.46602806],\n",
       "       [ 6604599.78392615],\n",
       "       [ 5531178.35601622],\n",
       "       [ 5273782.66554319],\n",
       "       [ 4890682.56232835],\n",
       "       [ 4100120.42530897],\n",
       "       [ 4892991.24601109],\n",
       "       [ 4656407.53571012],\n",
       "       [ 3628350.50014777],\n",
       "       [ 4032004.65321018],\n",
       "       [ 3942265.91973344],\n",
       "       [ 5080550.4123109 ],\n",
       "       [ 4919328.77160851],\n",
       "       [ 4519661.1360723 ],\n",
       "       [ 3749737.16380843],\n",
       "       [ 3551048.9107621 ],\n",
       "       [ 4913749.34122584],\n",
       "       [ 6064018.59823566],\n",
       "       [ 6265204.25185469],\n",
       "       [ 4791327.17947789],\n",
       "       [ 3187297.21232994],\n",
       "       [ 3820809.25259271],\n",
       "       [ 4797415.07202768],\n",
       "       [ 6528554.1152008 ],\n",
       "       [ 4667947.17936333],\n",
       "       [ 4422126.16568721],\n",
       "       [ 7358178.57867359],\n",
       "       [ 4500709.33814167],\n",
       "       [ 6002822.69785212],\n",
       "       [ 5832882.3320432 ],\n",
       "       [ 6331861.60326521],\n",
       "       [ 5256580.06035898],\n",
       "       [ 5598123.33567931],\n",
       "       [ 5170083.52740136],\n",
       "       [ 4015253.48343647],\n",
       "       [ 6960339.05907829],\n",
       "       [ 4402117.03196968],\n",
       "       [ 3822286.70171013],\n",
       "       [ 4065071.56298939],\n",
       "       [ 4430013.10126485],\n",
       "       [ 5384715.23504815],\n",
       "       [ 5397108.16323758],\n",
       "       [ 4429673.04117815],\n",
       "       [ 4154564.54535619],\n",
       "       [ 5121468.82236776],\n",
       "       [ 4050998.04242228],\n",
       "       [ 4429994.34291821],\n",
       "       [ 3321581.6721767 ],\n",
       "       [ 4545016.3532075 ],\n",
       "       [ 3771565.32524146],\n",
       "       [ 5166116.19025865],\n",
       "       [ 4858456.30221155],\n",
       "       [ 3625797.1701634 ],\n",
       "       [ 6275174.96613722],\n",
       "       [ 4874366.19260012],\n",
       "       [ 6395980.5821154 ],\n",
       "       [ 3882367.59760247],\n",
       "       [ 4047747.89758609],\n",
       "       [ 4543476.41147452],\n",
       "       [ 4161572.72222634],\n",
       "       [ 5090168.50686516],\n",
       "       [ 4346383.48096488],\n",
       "       [ 4327335.98116832],\n",
       "       [ 4369247.3186282 ],\n",
       "       [ 3839616.42960814],\n",
       "       [ 5258503.81659739],\n",
       "       [ 4703951.79685436],\n",
       "       [ 3433104.17621239],\n",
       "       [ 3557047.80829273],\n",
       "       [ 3117484.13112478],\n",
       "       [ 3992853.27604988],\n",
       "       [ 3917868.96631609],\n",
       "       [ 4291299.16189343],\n",
       "       [ 4055754.91430955],\n",
       "       [ 4780255.83044242],\n",
       "       [ 3307686.73344994],\n",
       "       [ 6450791.79033367],\n",
       "       [ 3233217.16657955],\n",
       "       [ 4324241.51669428],\n",
       "       [ 4339223.98267023],\n",
       "       [ 4289897.16336527],\n",
       "       [ 3551604.80232308],\n",
       "       [ 3344079.33869546],\n",
       "       [ 5447426.64491539],\n",
       "       [ 4951305.5368072 ],\n",
       "       [ 3770346.84163041],\n",
       "       [ 3777198.08423753],\n",
       "       [ 4724961.0970036 ],\n",
       "       [ 3963626.57060648],\n",
       "       [ 3997774.35159091],\n",
       "       [ 4392997.57972756],\n",
       "       [ 4500237.24276468],\n",
       "       [ 4020012.22376885],\n",
       "       [ 4559442.33527069],\n",
       "       [ 4799503.35212499],\n",
       "       [ 4625508.70609497],\n",
       "       [ 4828669.66106214],\n",
       "       [ 4286911.28670244],\n",
       "       [ 3907302.21782986],\n",
       "       [ 2697219.06655019],\n",
       "       [ 4215053.94661493],\n",
       "       [ 2713943.75571067],\n",
       "       [ 5790951.91592779],\n",
       "       [ 4551886.40870058],\n",
       "       [ 4971676.01016184],\n",
       "       [ 4891246.24182453],\n",
       "       [ 4022120.77691509],\n",
       "       [ 4075060.59155348],\n",
       "       [ 4241739.47995216],\n",
       "       [ 3801245.13699654],\n",
       "       [ 5330097.54296848],\n",
       "       [ 3694705.40009242],\n",
       "       [ 4036105.96115487],\n",
       "       [ 4125778.84493151],\n",
       "       [ 4194132.5985884 ],\n",
       "       [ 4702151.24165259],\n",
       "       [ 3944772.74053869],\n",
       "       [ 4104837.6141486 ],\n",
       "       [ 5078471.2489305 ],\n",
       "       [ 4429874.47717573],\n",
       "       [ 3704922.47088951],\n",
       "       [ 4221252.23599681],\n",
       "       [ 5089890.93088665],\n",
       "       [ 5083587.09701297],\n",
       "       [ 3187698.64380205],\n",
       "       [ 5656294.39367307],\n",
       "       [ 5045432.08998377],\n",
       "       [ 5842977.85274107],\n",
       "       [ 5635939.49896877],\n",
       "       [ 4277061.08933957],\n",
       "       [ 4459968.7058243 ],\n",
       "       [ 4414294.07793663],\n",
       "       [ 2967171.84926071],\n",
       "       [ 4869575.73765484],\n",
       "       [ 5414984.98133397],\n",
       "       [ 3764835.62709891],\n",
       "       [ 4498289.0108181 ],\n",
       "       [ 6559075.7678119 ],\n",
       "       [ 4705519.99737854],\n",
       "       [ 3307842.09985135],\n",
       "       [ 4165364.29686078],\n",
       "       [ 4910005.04502481],\n",
       "       [ 5517739.62000238],\n",
       "       [ 4509627.43014792],\n",
       "       [ 4013679.58711581],\n",
       "       [ 4662968.56806913],\n",
       "       [ 5097153.69599512],\n",
       "       [ 4628829.51483605],\n",
       "       [ 5407605.39669767],\n",
       "       [ 2989145.58733073],\n",
       "       [ 2932654.84701105],\n",
       "       [ 4058457.15782485],\n",
       "       [ 3906175.87506769],\n",
       "       [ 3172600.18051156],\n",
       "       [ 3640674.97801286],\n",
       "       [ 3754855.78412017],\n",
       "       [ 4425351.17773573],\n",
       "       [ 2871251.86840269],\n",
       "       [ 3750436.2256898 ],\n",
       "       [ 4582443.79115126],\n",
       "       [ 4547733.08582062],\n",
       "       [ 4921923.19612027],\n",
       "       [ 5246341.91494048],\n",
       "       [ 4477224.60853271],\n",
       "       [ 3481278.73486743],\n",
       "       [ 3061077.67647587],\n",
       "       [ 2979321.1107534 ],\n",
       "       [ 3600326.66005019],\n",
       "       [ 3202983.31928921],\n",
       "       [ 3740030.17156669],\n",
       "       [ 4134955.81897384],\n",
       "       [ 3546839.999496  ],\n",
       "       [ 3452868.81272084],\n",
       "       [ 3516190.67517149],\n",
       "       [ 2944189.87194875],\n",
       "       [ 3092457.95779418],\n",
       "       [ 4449720.38643677],\n",
       "       [ 3800883.38857206],\n",
       "       [ 3276984.44004491],\n",
       "       [ 4253130.76925149],\n",
       "       [ 4159661.68825135],\n",
       "       [ 4462601.4299078 ],\n",
       "       [ 5093075.71616284],\n",
       "       [ 4569242.99059681],\n",
       "       [ 5950021.81199617],\n",
       "       [ 3957266.95826398],\n",
       "       [ 3092302.59139277],\n",
       "       [ 3608996.93037281],\n",
       "       [ 3918932.47390151],\n",
       "       [ 5892894.67010698],\n",
       "       [ 2885398.37888613],\n",
       "       [ 2659870.25558854],\n",
       "       [ 3398818.59383026],\n",
       "       [ 4471177.41247607],\n",
       "       [ 3246283.75484159],\n",
       "       [ 3835515.12166344],\n",
       "       [ 3401087.6780865 ],\n",
       "       [ 3669726.62626462],\n",
       "       [ 3550997.89514043],\n",
       "       [ 3295849.39662511],\n",
       "       [ 3185932.54482698],\n",
       "       [ 3914422.97402182],\n",
       "       [ 3157414.28372606],\n",
       "       [ 3933703.29973707],\n",
       "       [ 3392447.37893791],\n",
       "       [ 4068634.48627405],\n",
       "       [ 3544270.16548385],\n",
       "       [ 6151627.56671194],\n",
       "       [ 3210040.9439194 ],\n",
       "       [ 5079737.4661957 ],\n",
       "       [ 3125188.34598524],\n",
       "       [ 2652109.30393579],\n",
       "       [ 3988336.50677948],\n",
       "       [ 4407813.71998909],\n",
       "       [ 2748290.54478457],\n",
       "       [ 3100792.71201341],\n",
       "       [ 2846142.71633819],\n",
       "       [ 4407813.71998909],\n",
       "       [ 3983390.15752125],\n",
       "       [ 4776302.56950486],\n",
       "       [ 2758115.02136191],\n",
       "       [ 5751534.08670482],\n",
       "       [ 3653616.32555055],\n",
       "       [ 3102282.43437151],\n",
       "       [ 4755588.34261455],\n",
       "       [ 3945088.53035144],\n",
       "       [ 3227027.39590667],\n",
       "       [ 2932499.48060964],\n",
       "       [ 3110185.44557238],\n",
       "       [ 2821581.52489485],\n",
       "       [ 3257335.48689024],\n",
       "       [ 3896247.38829004],\n",
       "       [ 2577990.8916246 ],\n",
       "       [ 4311592.79609268],\n",
       "       [ 3034452.96010795],\n",
       "       [ 3657291.11729781],\n",
       "       [ 2810538.90996361],\n",
       "       [ 4477359.14999745],\n",
       "       [ 4480311.37874403],\n",
       "       [ 3408657.41434593],\n",
       "       [ 3637060.69480124],\n",
       "       [ 2758115.02136191],\n",
       "       [ 4311592.79609268],\n",
       "       [ 3621072.84138406],\n",
       "       [ 2664192.28949465],\n",
       "       [ 2302987.40887612],\n",
       "       [ 3731564.09190954],\n",
       "       [ 3423124.33323365],\n",
       "       [ 3560179.74286351],\n",
       "       [ 2809807.95296981],\n",
       "       [ 3130411.31707672],\n",
       "       [ 2920922.21191054],\n",
       "       [ 4197050.0430651 ],\n",
       "       [ 2771622.8725549 ],\n",
       "       [ 3545505.6435393 ],\n",
       "       [ 2679992.1215703 ],\n",
       "       [ 3771409.95884005],\n",
       "       [ 3644929.39886796],\n",
       "       [ 5334189.46394393],\n",
       "       [ 2795963.7911931 ],\n",
       "       [ 4313830.42083727],\n",
       "       [ 3603216.81307483],\n",
       "       [ 3350220.6021691 ],\n",
       "       [ 3068038.82589894],\n",
       "       [ 3295406.13772827],\n",
       "       [ 2625484.58756787],\n",
       "       [ 4031637.33270763],\n",
       "       [ 4195897.0188616 ],\n",
       "       [ 3026460.28732282],\n",
       "       [ 3173737.85537518],\n",
       "       [ 4690612.04532382],\n",
       "       [ 2699168.16189789],\n",
       "       [ 2901836.87025224],\n",
       "       [ 3919464.83680744],\n",
       "       [ 2683358.75386113],\n",
       "       [ 3338069.87222759],\n",
       "       [ 2719152.62153544],\n",
       "       [ 3270844.94628493],\n",
       "       [ 4426285.38090113],\n",
       "       [ 3743018.79823992],\n",
       "       [ 3401624.91434039],\n",
       "       [ 3173148.14113272],\n",
       "       [ 4416010.40283481],\n",
       "       [ 2984077.98264066],\n",
       "       [ 3082230.79596783],\n",
       "       [ 2955323.53080643],\n",
       "       [ 3273963.4556273 ],\n",
       "       [ 2443296.93290598],\n",
       "       [ 2695367.49572676],\n",
       "       [ 4195729.17052816],\n",
       "       [ 2084392.80503037],\n",
       "       [ 2657414.13644421],\n",
       "       [ 3460720.4630429 ],\n",
       "       [ 3810798.56381869],\n",
       "       [ 4210939.60232209],\n",
       "       [ 3229753.31102929],\n",
       "       [ 4139147.82558783],\n",
       "       [ 2704898.15678601],\n",
       "       [ 3630052.27664787],\n",
       "       [ 3315572.20570883],\n",
       "       [ 3436003.90519815],\n",
       "       [ 3608585.86363932],\n",
       "       [ 2748290.54478457],\n",
       "       [ 2732080.15843197],\n",
       "       [ 2927536.2266993 ],\n",
       "       [ 5019205.42090548],\n",
       "       [ 2588250.2061831 ],\n",
       "       [ 2069263.49594461],\n",
       "       [ 3118116.37741672],\n",
       "       [ 3104190.59289468],\n",
       "       [ 3406893.37324862],\n",
       "       [ 4191024.46362056],\n",
       "       [ 2052463.25615403],\n",
       "       [ 2650045.77901121],\n",
       "       [ 2846535.31055794],\n",
       "       [ 5126118.09093362],\n",
       "       [ 2179788.85743965],\n",
       "       [ 2253472.43176968],\n",
       "       [ 3394354.23052421],\n",
       "       [ 3430492.69066665],\n",
       "       [ 2879731.79795323],\n",
       "       [ 3491257.00998455],\n",
       "       [ 2705764.78189445],\n",
       "       [ 2779016.56909719],\n",
       "       [ 2921396.24279922],\n",
       "       [ 3403867.97429873],\n",
       "       [ 3657054.62818822],\n",
       "       [ 2230531.89411826],\n",
       "       [ 3400101.93416529],\n",
       "       [ 4566443.0856968 ],\n",
       "       [ 2567520.17576158],\n",
       "       [ 2659870.25558854],\n",
       "       [ 2546888.77494917],\n",
       "       [ 2362924.64693769],\n",
       "       [ 2178117.92673483],\n",
       "       [ 3677922.06495395],\n",
       "       [ 2824077.87081151],\n",
       "       [ 4272446.52529256],\n",
       "       [ 2074568.32845304],\n",
       "       [ 2939268.86179981],\n",
       "       [ 3221329.96917849],\n",
       "       [ 2867436.85829322],\n",
       "       [ 3031070.63006103],\n",
       "       [ 2767340.52169642],\n",
       "       [ 2662080.76281844],\n",
       "       [ 2348450.14805474],\n",
       "       [ 3408397.00533689],\n",
       "       [ 2283101.22790309],\n",
       "       [ 2654958.01729988],\n",
       "       [ 2629569.39365562],\n",
       "       [ 3295406.13772827]])"
      ]
     },
     "execution_count": 270,
     "metadata": {},
     "output_type": "execute_result"
    }
   ],
   "source": [
    "predicted"
   ]
  },
  {
   "cell_type": "code",
   "execution_count": 273,
   "id": "8045560c-c15d-4f66-9257-ca8ad22fa03f",
   "metadata": {},
   "outputs": [
    {
     "data": {
      "text/plain": [
       "781843.5629457675"
      ]
     },
     "execution_count": 273,
     "metadata": {},
     "output_type": "execute_result"
    }
   ],
   "source": [
    "np.mean(abs(Y- predicted))"
   ]
  },
  {
   "cell_type": "code",
   "execution_count": 274,
   "id": "3be5c375-e231-4a33-adb5-9004e405c96d",
   "metadata": {},
   "outputs": [
    {
     "data": {
      "text/plain": [
       "1131250819067.6816"
      ]
     },
     "execution_count": 274,
     "metadata": {},
     "output_type": "execute_result"
    }
   ],
   "source": [
    "mean_squared_error(Y,predicted)"
   ]
  },
  {
   "cell_type": "code",
   "execution_count": 275,
   "id": "e09f5669-d040-486e-b176-7d544a087e5e",
   "metadata": {},
   "outputs": [
    {
     "data": {
      "text/plain": [
       "1063602.754353185"
      ]
     },
     "execution_count": 275,
     "metadata": {},
     "output_type": "execute_result"
    }
   ],
   "source": [
    "np.sqrt(mean_squared_error(Y,predicted))"
   ]
  },
  {
   "cell_type": "code",
   "execution_count": 276,
   "id": "67a298aa-ee03-46eb-995e-2883e3c50735",
   "metadata": {},
   "outputs": [
    {
     "data": {
      "text/plain": [
       "781843.5629457675"
      ]
     },
     "execution_count": 276,
     "metadata": {},
     "output_type": "execute_result"
    }
   ],
   "source": [
    "mean_absolute_error(Y,predicted)"
   ]
  },
  {
   "cell_type": "code",
   "execution_count": 277,
   "id": "5d75385a-52cb-4964-a963-606003b6e7a3",
   "metadata": {},
   "outputs": [
    {
     "data": {
      "text/plain": [
       "0.6760566084107937"
      ]
     },
     "execution_count": 277,
     "metadata": {},
     "output_type": "execute_result"
    }
   ],
   "source": [
    "#R2 score\n",
    "r2_score(Y,predicted)"
   ]
  },
  {
   "cell_type": "code",
   "execution_count": 278,
   "id": "6d76f0f9-4f97-4d7a-be71-104ac514e00c",
   "metadata": {},
   "outputs": [],
   "source": [
    "import matplotlib.pyplot as plt"
   ]
  },
  {
   "cell_type": "code",
   "execution_count": 280,
   "id": "ffe93f95-0e5d-4c84-a8cc-7a84bb69ec6c",
   "metadata": {},
   "outputs": [],
   "source": [
    "x1 = dataset['area']\n",
    "y1 = dataset['price']"
   ]
  },
  {
   "cell_type": "code",
   "execution_count": 281,
   "id": "bc0b27f1-3453-414e-b4af-3d4cb498c2fb",
   "metadata": {},
   "outputs": [
    {
     "data": {
      "text/plain": [
       "<matplotlib.collections.PathCollection at 0x7f910017fc70>"
      ]
     },
     "execution_count": 281,
     "metadata": {},
     "output_type": "execute_result"
    },
    {
     "data": {
      "image/png": "[encoded data removed]",
      "text/plain": [
       "<Figure size 1600x900 with 1 Axes>"
      ]
     },
     "metadata": {},
     "output_type": "display_data"
    }
   ],
   "source": [
    "plt.figure(figsize=(16,9))\n",
    "plt.title(\"Price According to Area\")\n",
    "plt.xlabel(\"Area\")\n",
    "plt.ylabel(\"price\")\n",
    "plt.scatter(x1,y1)"
   ]
  },
  {
   "cell_type": "markdown",
   "id": "3b1ecaec-85bf-4f30-9849-f13282f98be8",
   "metadata": {},
   "source": [
    "Corelation Matrix"
   ]
  },
  {
   "cell_type": "code",
   "execution_count": 282,
   "id": "7b292786-4357-4560-9f57-d4151983d498",
   "metadata": {},
   "outputs": [
    {
     "data": {
      "text/plain": [
       "<Axes: >"
      ]
     },
     "execution_count": 282,
     "metadata": {},
     "output_type": "execute_result"
    },
    {
     "data": {
      "image/png": "[encoded data removed]",
      "text/plain": [
       "<Figure size 640x480 with 2 Axes>"
      ]
     },
     "metadata": {},
     "output_type": "display_data"
    }
   ],
   "source": [
    "cm_data = dataset.corr()\n",
    "sns.heatmap(cm_data)"
   ]
  },
  {
   "cell_type": "code",
   "execution_count": 283,
   "id": "373e0dea-a458-433f-89c8-a1ea6be51406",
   "metadata": {},
   "outputs": [
    {
     "data": {
      "text/plain": [
       "<Axes: >"
      ]
     },
     "execution_count": 283,
     "metadata": {},
     "output_type": "execute_result"
    },
    {
     "data": {
      "image/png": "[encoded data removed]",
      "text/plain": [
       "<Figure size 640x480 with 2 Axes>"
      ]
     },
     "metadata": {},
     "output_type": "display_data"
    }
   ],
   "source": [
    "sns.heatmap(cm_data,annot=True,fmt=\".1f\")"
   ]
  },
  {
   "cell_type": "code",
   "execution_count": 284,
   "id": "11a4752b-0539-4efc-8af7-27d47ff7be2a",
   "metadata": {},
   "outputs": [
    {
     "data": {
      "text/plain": [
       "<Axes: >"
      ]
     },
     "execution_count": 284,
     "metadata": {},
     "output_type": "execute_result"
    },
    {
     "data": {
      "image/png": "[encoded data removed]",
      "text/plain": [
       "<Figure size 640x480 with 2 Axes>"
      ]
     },
     "metadata": {},
     "output_type": "display_data"
    }
   ],
   "source": [
    "sns.heatmap(cm_data,linewidth=0.5,cmap=sns.cubehelix_palette(as_cmap=True))"
   ]
  },
  {
   "cell_type": "code",
   "execution_count": null,
   "id": "f4882f7e-8a47-41cc-9dc3-2249318cc404",
   "metadata": {},
   "outputs": [],
   "source": []
  }
 ],
 "metadata": {
  "kernelspec": {
   "display_name": "Python 3 (ipykernel)",
   "language": "python",
   "name": "python3"
  },
  "language_info": {
   "codemirror_mode": {
    "name": "ipython",
    "version": 3
   },
   "file_extension": ".py",
   "mimetype": "text/x-python",
   "name": "python",
   "nbconvert_exporter": "python",
   "pygments_lexer": "ipython3",
   "version": "3.10.12"
  }
 },
 "nbformat": 4,
 "nbformat_minor": 5
}
